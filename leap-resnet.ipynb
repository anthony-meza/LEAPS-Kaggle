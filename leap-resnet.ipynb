{
 "cells": [
  {
   "cell_type": "code",
   "execution_count": 1,
   "id": "bf6f7daa",
   "metadata": {
    "_cell_guid": "b1076dfc-b9ad-4769-8c92-a6c4dae69d19",
    "_uuid": "8f2839f25d086af736a60e9eeb907d3b93b6e0e5",
    "execution": {
     "iopub.execute_input": "2024-05-29T02:55:17.251725Z",
     "iopub.status.busy": "2024-05-29T02:55:17.251451Z",
     "iopub.status.idle": "2024-05-29T02:55:28.061032Z",
     "shell.execute_reply": "2024-05-29T02:55:28.060064Z"
    },
    "papermill": {
     "duration": 10.817537,
     "end_time": "2024-05-29T02:55:28.063166",
     "exception": false,
     "start_time": "2024-05-29T02:55:17.245629",
     "status": "completed"
    },
    "tags": []
   },
   "outputs": [
    {
     "name": "stdout",
     "output_type": "stream",
     "text": [
      "Supported Device:  cuda\n"
     ]
    }
   ],
   "source": [
    "# standard\n",
    "import numpy as np\n",
    "import pandas as pd\n",
    "import polars as pl\n",
    "from sklearn.model_selection import train_test_split\n",
    "import dask.dataframe as dd\n",
    "\n",
    "# Import necessary libraries\n",
    "import torch\n",
    "import torch.nn as nn\n",
    "from torch.optim import lr_scheduler\n",
    "from torch.utils.data import DataLoader, TensorDataset, random_split\n",
    "import torch.nn.init as init\n",
    "import matplotlib.pyplot as plt\n",
    "\n",
    "from ignite.engine import create_supervised_trainer, create_supervised_evaluator\n",
    "from ignite.metrics import Accuracy, Loss\n",
    "from ignite.handlers import FastaiLRFinder\n",
    "\n",
    "# generator1 = torch.Generator().manual_seed(42)\n",
    "\n",
    "DEVICE = torch.device(\"cuda\" if torch.cuda.is_available() else \"cpu\")\n",
    "print(\"Supported Device: \", DEVICE)\n",
    "\n",
    "# Decide random state\n",
    "torch.manual_seed(42)\n",
    "torch.set_default_dtype(torch.float32) #this is a bug, if using ADAM optimizer need to explicit in all operations. Can't just set default to float64\n",
    "DTYPE = torch.float64"
   ]
  },
  {
   "cell_type": "code",
   "execution_count": 2,
   "id": "5b48fea2",
   "metadata": {
    "execution": {
     "iopub.execute_input": "2024-05-29T02:55:28.073772Z",
     "iopub.status.busy": "2024-05-29T02:55:28.073300Z",
     "iopub.status.idle": "2024-05-29T02:55:28.085697Z",
     "shell.execute_reply": "2024-05-29T02:55:28.085039Z"
    },
    "papermill": {
     "duration": 0.019515,
     "end_time": "2024-05-29T02:55:28.087452",
     "exception": false,
     "start_time": "2024-05-29T02:55:28.067937",
     "status": "completed"
    },
    "tags": []
   },
   "outputs": [],
   "source": [
    "# Define ResNet architecture without Batch Normalization\n",
    "class ResidualBlock(nn.Module):\n",
    "    def __init__(self, in_features, out_features):\n",
    "        super(ResidualBlock, self).__init__()\n",
    "        self.layer = nn.Sequential(\n",
    "            nn.Linear(in_features, out_features, dtype=DTYPE),\n",
    "            nn.ReLU(inplace=True).double(),\n",
    "            nn.Linear(out_features, out_features, dtype=DTYPE),\n",
    "            nn.ReLU(inplace=True).double(),\n",
    "            nn.Linear(out_features, out_features, dtype=DTYPE),\n",
    "        )\n",
    "        if (in_features != out_features):\n",
    "            self.fc = nn.Linear(in_features, out_features, dtype=DTYPE)\n",
    "        else:\n",
    "            self.fc = nn.Identity(dtype=DTYPE)\n",
    "    \n",
    "    def forward(self, x):\n",
    "        return self.fc(x) + self.layer(x)\n",
    "\n",
    "class ResNet(nn.Module):\n",
    "    def __init__(self, in_features, out_features, hidden_features, num_blocks):\n",
    "        super(ResNet, self).__init__()\n",
    "        \n",
    "        layers = [ResidualBlock(in_features, hidden_features)]\n",
    "        layers += [ResidualBlock(hidden_features, hidden_features) for _ in range(num_blocks-2)]\n",
    "        layers.append(ResidualBlock(hidden_features, out_features))\n",
    "\n",
    "        self.network = nn.Sequential(*layers)\n",
    "        self.fc = nn.Linear(out_features, out_features, dtype=DTYPE)\n",
    "    \n",
    "    def forward(self, x):\n",
    "        out = self.network(x)\n",
    "        return self.fc(out)\n",
    "# He initialization function\n",
    "def weights_init(m):\n",
    "    if isinstance(m, nn.Linear):\n",
    "        init.kaiming_uniform_(m.weight, nonlinearity='relu')  # He initialization\n",
    "        if m.bias is not None:\n",
    "            init.zeros_(m.bias)\n",
    "            \n",
    "def r2_score_custom(y_pred:torch.Tensor, y_true:torch.Tensor) -> float:\n",
    "    \n",
    "    ss_res = torch.sum((y_true - y_pred) ** 2)\n",
    "    ss_tot = torch.sum((y_true - torch.mean(y_true)) ** 2)\n",
    "    \n",
    "    r2 = 1 - ss_res / ss_tot\n",
    "    \n",
    "    return r2.item()\n"
   ]
  },
  {
   "cell_type": "code",
   "execution_count": 3,
   "id": "dc5dd896",
   "metadata": {
    "execution": {
     "iopub.execute_input": "2024-05-29T02:55:28.097308Z",
     "iopub.status.busy": "2024-05-29T02:55:28.097039Z",
     "iopub.status.idle": "2024-05-29T02:55:35.547029Z",
     "shell.execute_reply": "2024-05-29T02:55:35.544959Z"
    },
    "papermill": {
     "duration": 7.459462,
     "end_time": "2024-05-29T02:55:35.551296",
     "exception": false,
     "start_time": "2024-05-29T02:55:28.091834",
     "status": "completed"
    },
    "tags": []
   },
   "outputs": [
    {
     "name": "stdout",
     "output_type": "stream",
     "text": [
      "CPU times: user 9.77 s, sys: 3.19 s, total: 13 s\n",
      "Wall time: 7.44 s\n"
     ]
    }
   ],
   "source": [
    "%%time\n",
    "# Import each file\n",
    "# temporarily set n_rows for saving time\n",
    "n_rows = 100000\n",
    "folder = 'leap-atmospheric-physics-ai-climsim'\n",
    "df_train = pl.read_csv('../input/'+folder+'/train.csv', n_rows=n_rows).to_pandas()\n",
    "df_sub = pl.read_csv('../input/'+folder+'/sample_submission.csv', n_rows=2).to_pandas()"
   ]
  },
  {
   "cell_type": "code",
   "execution_count": 4,
   "id": "0125cb46",
   "metadata": {
    "execution": {
     "iopub.execute_input": "2024-05-29T02:55:35.567215Z",
     "iopub.status.busy": "2024-05-29T02:55:35.566581Z",
     "iopub.status.idle": "2024-05-29T02:55:37.705127Z",
     "shell.execute_reply": "2024-05-29T02:55:37.704326Z"
    },
    "papermill": {
     "duration": 2.149345,
     "end_time": "2024-05-29T02:55:37.707410",
     "exception": false,
     "start_time": "2024-05-29T02:55:35.558065",
     "status": "completed"
    },
    "tags": []
   },
   "outputs": [],
   "source": [
    "torch.manual_seed(42)\n",
    "weights = df_sub.iloc[0, 1:].values.astype(np.float64)\n",
    "weights = torch.tensor(weights, dtype=DTYPE)\n",
    "\n",
    "# Prepare data for training\n",
    "x_train = torch.tensor(1 * df_train.iloc[:, 1:557].values, dtype=DTYPE)\n",
    "y_train = torch.tensor(1 * df_train.iloc[:, 557:].values, dtype=DTYPE)\n",
    "y_train = y_train * weights\n",
    "\n",
    "# Create a dataset and shuffle it\n",
    "dataset = TensorDataset(x_train, y_train)\n",
    "train_size = int(0.8 * len(dataset))\n",
    "val_size = len(dataset) - train_size\n",
    "train_dataset, val_dataset = random_split(dataset, [train_size, val_size])\n",
    "\n",
    "y_t = y_train[train_dataset.indices, :].to(DEVICE, dtype = DTYPE)\n",
    "y_v = y_train[val_dataset.indices, :].to(DEVICE, dtype = DTYPE)\n",
    "\n",
    "SS_res_train = torch.sum((y_t - y_t.mean())**2)\n",
    "SS_res_val = torch.sum((y_v - y_v.mean())**2)\n",
    "\n",
    "# Create data loaders\n",
    "train_loader = DataLoader(train_dataset, batch_size=5000, shuffle=True)\n",
    "val_loader = DataLoader(val_dataset, batch_size=5000, shuffle=True)"
   ]
  },
  {
   "cell_type": "code",
   "execution_count": 5,
   "id": "62f07d15",
   "metadata": {
    "execution": {
     "iopub.execute_input": "2024-05-29T02:55:37.718549Z",
     "iopub.status.busy": "2024-05-29T02:55:37.717741Z",
     "iopub.status.idle": "2024-05-29T02:56:11.995410Z",
     "shell.execute_reply": "2024-05-29T02:56:11.994526Z"
    },
    "papermill": {
     "duration": 34.288794,
     "end_time": "2024-05-29T02:56:12.001048",
     "exception": false,
     "start_time": "2024-05-29T02:55:37.712254",
     "status": "completed"
    },
    "tags": []
   },
   "outputs": [
    {
     "data": {
      "image/png": "[encoded data removed]",
      "text/plain": [
       "<Figure size 640x480 with 1 Axes>"
      ]
     },
     "metadata": {},
     "output_type": "display_data"
    },
    {
     "name": "stdout",
     "output_type": "stream",
     "text": [
      "Suggested LR 2.942727176209282e-05\n"
     ]
    }
   ],
   "source": [
    "torch.manual_seed(42)\n",
    "\n",
    "# Model parameters\n",
    "input_dim = x_train.shape[1]\n",
    "output_dim = y_train.shape[1]\n",
    "hidden_dim = np.int64(np.mean([input_dim, output_dim]).round()) #hidden layers is the mean of the number of inputs and outputs\n",
    "num_res_blocks = 7\n",
    "\n",
    "# Create ResNet model\n",
    "model = ResNet(input_dim, output_dim, hidden_dim, num_res_blocks)\n",
    "model = model.to(DEVICE, dtype = DTYPE)\n",
    "criterion = nn.MSELoss().to(DEVICE, dtype = DTYPE)\n",
    "optimizer = torch.optim.Adam(model.parameters(), lr=1e-6)\n",
    "\n",
    "trainer = create_supervised_trainer(model, optimizer, criterion, device=DEVICE)\n",
    "\n",
    "lr_finder = FastaiLRFinder()\n",
    "\n",
    "# To restore the model's and optimizer's states after running the LR Finder\n",
    "to_save = {\"model\": model, \"optimizer\": optimizer}\n",
    "\n",
    "with lr_finder.attach(trainer, to_save, end_lr=1e-01) as trainer_with_lr_finder:\n",
    "    trainer_with_lr_finder.run(train_loader, max_epochs=10)\n",
    "\n",
    "lr_finder.plot()\n",
    "\n",
    "print(\"Suggested LR\", lr_finder.lr_suggestion())"
   ]
  },
  {
   "cell_type": "code",
   "execution_count": 6,
   "id": "55379350",
   "metadata": {
    "execution": {
     "iopub.execute_input": "2024-05-29T02:56:12.012447Z",
     "iopub.status.busy": "2024-05-29T02:56:12.012151Z",
     "iopub.status.idle": "2024-05-29T03:12:49.818255Z",
     "shell.execute_reply": "2024-05-29T03:12:49.817273Z"
    },
    "papermill": {
     "duration": 997.820183,
     "end_time": "2024-05-29T03:12:49.826405",
     "exception": false,
     "start_time": "2024-05-29T02:56:12.006222",
     "status": "completed"
    },
    "tags": []
   },
   "outputs": [
    {
     "name": "stdout",
     "output_type": "stream",
     "text": [
      "Epoch [10/200], Train Loss: 17.4891, Val Loss: 16.7563\n",
      "Epoch [10/200], Train $R^2$: -19.6219, Val $R^2$: -19.1577\n",
      "Epoch [20/200], Train Loss: 14.8695, Val Loss: 14.5834\n",
      "Epoch [20/200], Train $R^2$: -16.5331, Val $R^2$: -16.5437\n",
      "Epoch [30/200], Train Loss: 12.8634, Val Loss: 12.5975\n",
      "Epoch [30/200], Train $R^2$: -14.1676, Val $R^2$: -14.1547\n",
      "Epoch [40/200], Train Loss: 10.8865, Val Loss: 10.6488\n",
      "Epoch [40/200], Train $R^2$: -11.8366, Val $R^2$: -11.8104\n",
      "Epoch [50/200], Train Loss: 9.0730, Val Loss: 8.8733\n",
      "Epoch [50/200], Train $R^2$: -9.6982, Val $R^2$: -9.6745\n",
      "Epoch [60/200], Train Loss: 7.5180, Val Loss: 7.3607\n",
      "Epoch [60/200], Train $R^2$: -7.8647, Val $R^2$: -7.8548\n",
      "Epoch [70/200], Train Loss: 6.2655, Val Loss: 6.1339\n",
      "Epoch [70/200], Train $R^2$: -6.3879, Val $R^2$: -6.3791\n",
      "Epoch [80/200], Train Loss: 5.2846, Val Loss: 5.1767\n",
      "Epoch [80/200], Train $R^2$: -5.2312, Val $R^2$: -5.2275\n",
      "Epoch [90/200], Train Loss: 4.5326, Val Loss: 4.4482\n",
      "Epoch [90/200], Train $R^2$: -4.3445, Val $R^2$: -4.3511\n",
      "Epoch [100/200], Train Loss: 3.9614, Val Loss: 3.8929\n",
      "Epoch [100/200], Train $R^2$: -3.6710, Val $R^2$: -3.6832\n",
      "Epoch [110/200], Train Loss: 3.5247, Val Loss: 3.4673\n",
      "Epoch [110/200], Train $R^2$: -3.1561, Val $R^2$: -3.1711\n",
      "Epoch [120/200], Train Loss: 3.1869, Val Loss: 3.1398\n",
      "Epoch [120/200], Train $R^2$: -2.7578, Val $R^2$: -2.7772\n",
      "Epoch [130/200], Train Loss: 2.9183, Val Loss: 2.8740\n",
      "Epoch [130/200], Train $R^2$: -2.4410, Val $R^2$: -2.4574\n",
      "Epoch [140/200], Train Loss: 2.7008, Val Loss: 2.6633\n",
      "Epoch [140/200], Train $R^2$: -2.1846, Val $R^2$: -2.2039\n",
      "Epoch [150/200], Train Loss: 2.5224, Val Loss: 2.4866\n",
      "Epoch [150/200], Train $R^2$: -1.9742, Val $R^2$: -1.9913\n",
      "Epoch [160/200], Train Loss: 2.3735, Val Loss: 2.3391\n",
      "Epoch [160/200], Train $R^2$: -1.7986, Val $R^2$: -1.8139\n",
      "Epoch [170/200], Train Loss: 2.2464, Val Loss: 2.2274\n",
      "Epoch [170/200], Train $R^2$: -1.6488, Val $R^2$: -1.6795\n",
      "Epoch [180/200], Train Loss: 2.1425, Val Loss: 2.1059\n",
      "Epoch [180/200], Train $R^2$: -1.5263, Val $R^2$: -1.5334\n",
      "Epoch [190/200], Train Loss: 2.0381, Val Loss: 2.0263\n",
      "Epoch [190/200], Train $R^2$: -1.4031, Val $R^2$: -1.4376\n",
      "Epoch [200/200], Train Loss: 1.9666, Val Loss: 1.9392\n",
      "Epoch [200/200], Train $R^2$: -1.3189, Val $R^2$: -1.3328\n"
     ]
    }
   ],
   "source": [
    "torch.manual_seed(42)\n",
    "\n",
    "# Model parameters\n",
    "input_dim = x_train.shape[1]\n",
    "output_dim = y_train.shape[1]\n",
    "hidden_dim = np.int64(np.mean([input_dim, output_dim]).round()) #hidden layers is the mean of the number of inputs and outputs\n",
    "num_res_blocks = 7\n",
    "\n",
    "# Create ResNet model\n",
    "model = ResNet(input_dim, output_dim, hidden_dim, num_res_blocks)\n",
    "model = model.to(DEVICE, dtype = DTYPE)\n",
    "\n",
    "# Apply the He weight initialization (does not work well)\n",
    "# model.apply(weights_init)\n",
    "\n",
    "num_epochs = 200\n",
    "\n",
    "# Training settings\n",
    "criterion = nn.MSELoss(reduction = \"mean\").to(DEVICE, dtype = DTYPE)\n",
    "optimizer = torch.optim.Adam(model.parameters(), lr=0.001)\n",
    "lr_finder.apply_suggested_lr(optimizer)\n",
    "\n",
    "# Training loop\n",
    "for epoch in range(num_epochs):\n",
    "    model.train()\n",
    "    train_loss = 0\n",
    "    for batch_in, batch_out in train_loader:\n",
    "        \n",
    "        batch_in = batch_in.to(DEVICE, dtype = DTYPE)\n",
    "        batch_out = batch_out.to(DEVICE, dtype = DTYPE)\n",
    "\n",
    "        optimizer.zero_grad()\n",
    "        predictions = model(batch_in)\n",
    "        \n",
    "        loss = criterion(predictions, batch_out)\n",
    "        loss.backward()\n",
    "        optimizer.step()\n",
    "        train_loss += loss.item()\n",
    "    \n",
    "    # Validation\n",
    "    model.eval()\n",
    "    val_loss = 0\n",
    "    with torch.no_grad():\n",
    "        for batch_in, batch_out in val_loader:\n",
    "            batch_in = batch_in.to(DEVICE, dtype = torch.float64)\n",
    "            batch_out = batch_out.to(DEVICE, dtype = torch.float64)\n",
    "\n",
    "            predictions = model(batch_in)\n",
    "            loss = criterion(predictions, batch_out)\n",
    "            val_loss += loss.item()\n",
    "#     scheduler.step()\n",
    "    if (epoch + 1) % 10 == 0:\n",
    "        Rsq_train = (train_loss * train_loader.batch_size * output_dim) / SS_res_train; Rsq_train = 1 - Rsq_train\n",
    "        Rsq_test = (val_loss * val_loader.batch_size * output_dim) / SS_res_val; Rsq_test = 1 - Rsq_test\n",
    "        \n",
    "        print(f'Epoch [{epoch+1}/{num_epochs}], Train Loss: {train_loss/len(train_loader):.4f}, Val Loss: {val_loss/len(val_loader):.4f}')\n",
    "        print(f'Epoch [{epoch+1}/{num_epochs}], Train $R^2$: {Rsq_train:.4f}, Val $R^2$: {Rsq_test:.4f}')"
   ]
  },
  {
   "cell_type": "code",
   "execution_count": 7,
   "id": "505c23ce",
   "metadata": {
    "execution": {
     "iopub.execute_input": "2024-05-29T03:12:49.840864Z",
     "iopub.status.busy": "2024-05-29T03:12:49.840545Z",
     "iopub.status.idle": "2024-05-29T03:12:50.629899Z",
     "shell.execute_reply": "2024-05-29T03:12:50.628773Z"
    },
    "papermill": {
     "duration": 0.798872,
     "end_time": "2024-05-29T03:12:50.631935",
     "exception": false,
     "start_time": "2024-05-29T03:12:49.833063",
     "status": "completed"
    },
    "tags": []
   },
   "outputs": [
    {
     "name": "stdout",
     "output_type": "stream",
     "text": [
      "Val $R^2$: -1.3328\n"
     ]
    }
   ],
   "source": [
    "model.eval()\n",
    "val_loss = 0\n",
    "with torch.no_grad():\n",
    "    for batch_in, batch_out in val_loader:\n",
    "        batch_in = batch_in.to(DEVICE, dtype = torch.float64)\n",
    "        batch_out = batch_out.to(DEVICE, dtype = torch.float64)\n",
    "\n",
    "        predictions = model(batch_in)\n",
    "        loss = criterion(predictions, batch_out)\n",
    "        val_loss += loss.item()\n",
    "    Rsq_test = (val_loss * val_loader.batch_size * output_dim) / SS_res_val; Rsq_test = 1 - Rsq_test\n",
    "    print(f'Val $R^2$: {Rsq_test:.4f}')"
   ]
  },
  {
   "cell_type": "code",
   "execution_count": 8,
   "id": "11fc5361",
   "metadata": {
    "execution": {
     "iopub.execute_input": "2024-05-29T03:12:50.647004Z",
     "iopub.status.busy": "2024-05-29T03:12:50.646682Z",
     "iopub.status.idle": "2024-05-29T03:12:50.927351Z",
     "shell.execute_reply": "2024-05-29T03:12:50.926422Z"
    },
    "papermill": {
     "duration": 0.290287,
     "end_time": "2024-05-29T03:12:50.929399",
     "exception": false,
     "start_time": "2024-05-29T03:12:50.639112",
     "status": "completed"
    },
    "tags": []
   },
   "outputs": [
    {
     "name": "stdout",
     "output_type": "stream",
     "text": [
      "-1.3327995621675175\n"
     ]
    }
   ],
   "source": [
    "x_v = x_train[val_dataset.indices, :].to(DEVICE, dtype = DTYPE)\n",
    "\n",
    "model.eval()\n",
    "with torch.no_grad():\n",
    "        predictions = model(x_v)\n",
    "print(r2_score_custom(predictions, y_v))"
   ]
  },
  {
   "cell_type": "code",
   "execution_count": 9,
   "id": "d2eaa1e1",
   "metadata": {
    "execution": {
     "iopub.execute_input": "2024-05-29T03:12:50.944744Z",
     "iopub.status.busy": "2024-05-29T03:12:50.944144Z",
     "iopub.status.idle": "2024-05-29T03:12:51.004192Z",
     "shell.execute_reply": "2024-05-29T03:12:51.003418Z"
    },
    "papermill": {
     "duration": 0.06993,
     "end_time": "2024-05-29T03:12:51.006314",
     "exception": false,
     "start_time": "2024-05-29T03:12:50.936384",
     "status": "completed"
    },
    "tags": []
   },
   "outputs": [],
   "source": [
    "torch.save(model.state_dict(), \"best_model.pth\")"
   ]
  },
  {
   "cell_type": "code",
   "execution_count": 10,
   "id": "30cc9b74",
   "metadata": {
    "execution": {
     "iopub.execute_input": "2024-05-29T03:12:51.021612Z",
     "iopub.status.busy": "2024-05-29T03:12:51.021324Z",
     "iopub.status.idle": "2024-05-29T03:12:51.125549Z",
     "shell.execute_reply": "2024-05-29T03:12:51.124683Z"
    },
    "papermill": {
     "duration": 0.114034,
     "end_time": "2024-05-29T03:12:51.127431",
     "exception": false,
     "start_time": "2024-05-29T03:12:51.013397",
     "status": "completed"
    },
    "tags": []
   },
   "outputs": [
    {
     "data": {
      "text/plain": [
       "<All keys matched successfully>"
      ]
     },
     "execution_count": 10,
     "metadata": {},
     "output_type": "execute_result"
    }
   ],
   "source": [
    "model = ResNet(input_dim, output_dim, hidden_dim, num_res_blocks)\n",
    "model = model.to(DEVICE)\n",
    "model.load_state_dict(torch.load(\"best_model.pth\", map_location=DEVICE))"
   ]
  },
  {
   "cell_type": "code",
   "execution_count": 11,
   "id": "f0c82e47",
   "metadata": {
    "execution": {
     "iopub.execute_input": "2024-05-29T03:12:51.142888Z",
     "iopub.status.busy": "2024-05-29T03:12:51.142588Z",
     "iopub.status.idle": "2024-05-29T03:12:51.319082Z",
     "shell.execute_reply": "2024-05-29T03:12:51.318222Z"
    },
    "papermill": {
     "duration": 0.186458,
     "end_time": "2024-05-29T03:12:51.321053",
     "exception": false,
     "start_time": "2024-05-29T03:12:51.134595",
     "status": "completed"
    },
    "tags": []
   },
   "outputs": [],
   "source": [
    "import gc \n",
    "gc.collect()\n",
    "torch.cuda.empty_cache()"
   ]
  },
  {
   "cell_type": "code",
   "execution_count": 12,
   "id": "02b344d2",
   "metadata": {
    "execution": {
     "iopub.execute_input": "2024-05-29T03:12:51.336716Z",
     "iopub.status.busy": "2024-05-29T03:12:51.336458Z",
     "iopub.status.idle": "2024-05-29T03:13:33.683874Z",
     "shell.execute_reply": "2024-05-29T03:13:33.683066Z"
    },
    "papermill": {
     "duration": 42.357687,
     "end_time": "2024-05-29T03:13:33.686156",
     "exception": false,
     "start_time": "2024-05-29T03:12:51.328469",
     "status": "completed"
    },
    "tags": []
   },
   "outputs": [],
   "source": [
    "df_test = pl.read_csv('../input/'+folder+'/test.csv')\n",
    "df_test = df_test.to_pandas()\n",
    "df_test = df_test.set_index(\"sample_id\")\n",
    "\n",
    "df_subm = pl.read_csv('../input/'+folder+'/sample_submission.csv')\n",
    "df_subm = df_subm.to_pandas()\n",
    "df_subm = df_subm.set_index(\"sample_id\")"
   ]
  },
  {
   "cell_type": "code",
   "execution_count": 13,
   "id": "45bc02d4",
   "metadata": {
    "execution": {
     "iopub.execute_input": "2024-05-29T03:13:33.702676Z",
     "iopub.status.busy": "2024-05-29T03:13:33.702383Z",
     "iopub.status.idle": "2024-05-29T03:13:39.662076Z",
     "shell.execute_reply": "2024-05-29T03:13:39.661027Z"
    },
    "papermill": {
     "duration": 5.970209,
     "end_time": "2024-05-29T03:13:39.664503",
     "exception": false,
     "start_time": "2024-05-29T03:13:33.694294",
     "status": "completed"
    },
    "tags": []
   },
   "outputs": [],
   "source": [
    "# Prepare data for training\n",
    "x_test = torch.tensor(1 * df_test.to_numpy()).to(DEVICE, dtype=DTYPE)\n",
    "\n",
    "model.eval()\n",
    "with torch.no_grad():\n",
    "        predictions1 = model(x_test).cpu().detach().numpy()\n"
   ]
  },
  {
   "cell_type": "code",
   "execution_count": 14,
   "id": "24e15153",
   "metadata": {
    "execution": {
     "iopub.execute_input": "2024-05-29T03:13:39.681718Z",
     "iopub.status.busy": "2024-05-29T03:13:39.681441Z",
     "iopub.status.idle": "2024-05-29T03:13:39.698892Z",
     "shell.execute_reply": "2024-05-29T03:13:39.698164Z"
    },
    "papermill": {
     "duration": 0.02809,
     "end_time": "2024-05-29T03:13:39.700753",
     "exception": false,
     "start_time": "2024-05-29T03:13:39.672663",
     "status": "completed"
    },
    "tags": []
   },
   "outputs": [],
   "source": [
    "TARGET_NAMES = ['ptend_t_0', 'ptend_t_1', 'ptend_t_2', 'ptend_t_3', 'ptend_t_4', 'ptend_t_5', 'ptend_t_6', 'ptend_t_7', 'ptend_t_8', 'ptend_t_9', 'ptend_t_10', 'ptend_t_11', 'ptend_t_12', 'ptend_t_13', 'ptend_t_14', 'ptend_t_15', 'ptend_t_16', 'ptend_t_17', 'ptend_t_18', 'ptend_t_19', 'ptend_t_20', 'ptend_t_21', 'ptend_t_22', 'ptend_t_23', 'ptend_t_24', 'ptend_t_25', 'ptend_t_26', 'ptend_t_27', 'ptend_t_28', 'ptend_t_29', 'ptend_t_30', 'ptend_t_31', 'ptend_t_32', 'ptend_t_33', 'ptend_t_34', 'ptend_t_35', 'ptend_t_36', 'ptend_t_37', 'ptend_t_38', 'ptend_t_39', 'ptend_t_40', 'ptend_t_41', 'ptend_t_42', 'ptend_t_43', 'ptend_t_44', 'ptend_t_45', 'ptend_t_46', 'ptend_t_47', 'ptend_t_48', 'ptend_t_49', 'ptend_t_50', 'ptend_t_51', 'ptend_t_52', 'ptend_t_53', 'ptend_t_54', 'ptend_t_55', 'ptend_t_56', 'ptend_t_57', 'ptend_t_58', 'ptend_t_59', 'ptend_q0001_0', 'ptend_q0001_1', 'ptend_q0001_2', 'ptend_q0001_3', 'ptend_q0001_4', 'ptend_q0001_5', 'ptend_q0001_6', 'ptend_q0001_7', 'ptend_q0001_8', 'ptend_q0001_9', 'ptend_q0001_10', 'ptend_q0001_11', 'ptend_q0001_12', 'ptend_q0001_13', 'ptend_q0001_14', 'ptend_q0001_15', 'ptend_q0001_16', 'ptend_q0001_17', 'ptend_q0001_18', 'ptend_q0001_19', 'ptend_q0001_20', 'ptend_q0001_21', 'ptend_q0001_22', 'ptend_q0001_23', 'ptend_q0001_24', 'ptend_q0001_25', 'ptend_q0001_26', 'ptend_q0001_27', 'ptend_q0001_28', 'ptend_q0001_29', 'ptend_q0001_30', 'ptend_q0001_31', 'ptend_q0001_32', 'ptend_q0001_33', 'ptend_q0001_34', 'ptend_q0001_35', 'ptend_q0001_36', 'ptend_q0001_37', 'ptend_q0001_38', 'ptend_q0001_39', 'ptend_q0001_40', 'ptend_q0001_41', 'ptend_q0001_42', 'ptend_q0001_43', 'ptend_q0001_44', 'ptend_q0001_45', 'ptend_q0001_46', 'ptend_q0001_47', 'ptend_q0001_48', 'ptend_q0001_49', 'ptend_q0001_50', 'ptend_q0001_51', 'ptend_q0001_52', 'ptend_q0001_53', 'ptend_q0001_54', 'ptend_q0001_55', 'ptend_q0001_56', 'ptend_q0001_57', 'ptend_q0001_58', 'ptend_q0001_59', 'ptend_q0002_0', 'ptend_q0002_1', 'ptend_q0002_2', 'ptend_q0002_3', 'ptend_q0002_4', 'ptend_q0002_5', 'ptend_q0002_6', 'ptend_q0002_7', 'ptend_q0002_8', 'ptend_q0002_9', 'ptend_q0002_10', 'ptend_q0002_11', 'ptend_q0002_12', 'ptend_q0002_13', 'ptend_q0002_14', 'ptend_q0002_15', 'ptend_q0002_16', 'ptend_q0002_17', 'ptend_q0002_18', 'ptend_q0002_19', 'ptend_q0002_20', 'ptend_q0002_21', 'ptend_q0002_22', 'ptend_q0002_23', 'ptend_q0002_24', 'ptend_q0002_25', 'ptend_q0002_26', 'ptend_q0002_27', 'ptend_q0002_28', 'ptend_q0002_29', 'ptend_q0002_30', 'ptend_q0002_31', 'ptend_q0002_32', 'ptend_q0002_33', 'ptend_q0002_34', 'ptend_q0002_35', 'ptend_q0002_36', 'ptend_q0002_37', 'ptend_q0002_38', 'ptend_q0002_39', 'ptend_q0002_40', 'ptend_q0002_41', 'ptend_q0002_42', 'ptend_q0002_43', 'ptend_q0002_44', 'ptend_q0002_45', 'ptend_q0002_46', 'ptend_q0002_47', 'ptend_q0002_48', 'ptend_q0002_49', 'ptend_q0002_50', 'ptend_q0002_51', 'ptend_q0002_52', 'ptend_q0002_53', 'ptend_q0002_54', 'ptend_q0002_55', 'ptend_q0002_56', 'ptend_q0002_57', 'ptend_q0002_58', 'ptend_q0002_59', 'ptend_q0003_0', 'ptend_q0003_1', 'ptend_q0003_2', 'ptend_q0003_3', 'ptend_q0003_4', 'ptend_q0003_5', 'ptend_q0003_6', 'ptend_q0003_7', 'ptend_q0003_8', 'ptend_q0003_9', 'ptend_q0003_10', 'ptend_q0003_11', 'ptend_q0003_12', 'ptend_q0003_13', 'ptend_q0003_14', 'ptend_q0003_15', 'ptend_q0003_16', 'ptend_q0003_17', 'ptend_q0003_18', 'ptend_q0003_19', 'ptend_q0003_20', 'ptend_q0003_21', 'ptend_q0003_22', 'ptend_q0003_23', 'ptend_q0003_24', 'ptend_q0003_25', 'ptend_q0003_26', 'ptend_q0003_27', 'ptend_q0003_28', 'ptend_q0003_29', 'ptend_q0003_30', 'ptend_q0003_31', 'ptend_q0003_32', 'ptend_q0003_33', 'ptend_q0003_34', 'ptend_q0003_35', 'ptend_q0003_36', 'ptend_q0003_37', 'ptend_q0003_38', 'ptend_q0003_39', 'ptend_q0003_40', 'ptend_q0003_41', 'ptend_q0003_42', 'ptend_q0003_43', 'ptend_q0003_44', 'ptend_q0003_45', 'ptend_q0003_46', 'ptend_q0003_47', 'ptend_q0003_48', 'ptend_q0003_49', 'ptend_q0003_50', 'ptend_q0003_51', 'ptend_q0003_52', 'ptend_q0003_53', 'ptend_q0003_54', 'ptend_q0003_55', 'ptend_q0003_56', 'ptend_q0003_57', 'ptend_q0003_58', 'ptend_q0003_59', 'ptend_u_0', 'ptend_u_1', 'ptend_u_2', 'ptend_u_3', 'ptend_u_4', 'ptend_u_5', 'ptend_u_6', 'ptend_u_7', 'ptend_u_8', 'ptend_u_9', 'ptend_u_10', 'ptend_u_11', 'ptend_u_12', 'ptend_u_13', 'ptend_u_14', 'ptend_u_15', 'ptend_u_16', 'ptend_u_17', 'ptend_u_18', 'ptend_u_19', 'ptend_u_20', 'ptend_u_21', 'ptend_u_22', 'ptend_u_23', 'ptend_u_24', 'ptend_u_25', 'ptend_u_26', 'ptend_u_27', 'ptend_u_28', 'ptend_u_29', 'ptend_u_30', 'ptend_u_31', 'ptend_u_32', 'ptend_u_33', 'ptend_u_34', 'ptend_u_35', 'ptend_u_36', 'ptend_u_37', 'ptend_u_38', 'ptend_u_39', 'ptend_u_40', 'ptend_u_41', 'ptend_u_42', 'ptend_u_43', 'ptend_u_44', 'ptend_u_45', 'ptend_u_46', 'ptend_u_47', 'ptend_u_48', 'ptend_u_49', 'ptend_u_50', 'ptend_u_51', 'ptend_u_52', 'ptend_u_53', 'ptend_u_54', 'ptend_u_55', 'ptend_u_56', 'ptend_u_57', 'ptend_u_58', 'ptend_u_59', 'ptend_v_0', 'ptend_v_1', 'ptend_v_2', 'ptend_v_3', 'ptend_v_4', 'ptend_v_5', 'ptend_v_6', 'ptend_v_7', 'ptend_v_8', 'ptend_v_9', 'ptend_v_10', 'ptend_v_11', 'ptend_v_12', 'ptend_v_13', 'ptend_v_14', 'ptend_v_15', 'ptend_v_16', 'ptend_v_17', 'ptend_v_18', 'ptend_v_19', 'ptend_v_20', 'ptend_v_21', 'ptend_v_22', 'ptend_v_23', 'ptend_v_24', 'ptend_v_25', 'ptend_v_26', 'ptend_v_27', 'ptend_v_28', 'ptend_v_29', 'ptend_v_30', 'ptend_v_31', 'ptend_v_32', 'ptend_v_33', 'ptend_v_34', 'ptend_v_35', 'ptend_v_36', 'ptend_v_37', 'ptend_v_38', 'ptend_v_39', 'ptend_v_40', 'ptend_v_41', 'ptend_v_42', 'ptend_v_43', 'ptend_v_44', 'ptend_v_45', 'ptend_v_46', 'ptend_v_47', 'ptend_v_48', 'ptend_v_49', 'ptend_v_50', 'ptend_v_51', 'ptend_v_52', 'ptend_v_53', 'ptend_v_54', 'ptend_v_55', 'ptend_v_56', 'ptend_v_57', 'ptend_v_58', 'ptend_v_59', 'cam_out_NETSW', 'cam_out_FLWDS', 'cam_out_PRECSC', 'cam_out_PRECC', 'cam_out_SOLS', 'cam_out_SOLL', 'cam_out_SOLSD', 'cam_out_SOLLD']"
   ]
  },
  {
   "cell_type": "code",
   "execution_count": 15,
   "id": "210961f1",
   "metadata": {
    "execution": {
     "iopub.execute_input": "2024-05-29T03:13:39.716489Z",
     "iopub.status.busy": "2024-05-29T03:13:39.716220Z",
     "iopub.status.idle": "2024-05-29T03:14:04.170199Z",
     "shell.execute_reply": "2024-05-29T03:14:04.169187Z"
    },
    "papermill": {
     "duration": 24.464723,
     "end_time": "2024-05-29T03:14:04.172838",
     "exception": false,
     "start_time": "2024-05-29T03:13:39.708115",
     "status": "completed"
    },
    "tags": []
   },
   "outputs": [
    {
     "name": "stdout",
     "output_type": "stream",
     "text": [
      "Saving Test File\n",
      "CPU times: user 30.5 s, sys: 8.45 s, total: 39 s\n",
      "Wall time: 24.4 s\n"
     ]
    },
    {
     "data": {
      "text/html": [
       "<div><style>\n",
       ".dataframe > thead > tr,\n",
       ".dataframe > tbody > tr {\n",
       "  text-align: right;\n",
       "  white-space: pre-wrap;\n",
       "}\n",
       "</style>\n",
       "<small>shape: (625_000, 369)</small><table border=\"1\" class=\"dataframe\"><thead><tr><th>sample_id</th><th>ptend_t_0</th><th>ptend_t_1</th><th>ptend_t_2</th><th>ptend_t_3</th><th>ptend_t_4</th><th>ptend_t_5</th><th>ptend_t_6</th><th>ptend_t_7</th><th>ptend_t_8</th><th>ptend_t_9</th><th>ptend_t_10</th><th>ptend_t_11</th><th>ptend_t_12</th><th>ptend_t_13</th><th>ptend_t_14</th><th>ptend_t_15</th><th>ptend_t_16</th><th>ptend_t_17</th><th>ptend_t_18</th><th>ptend_t_19</th><th>ptend_t_20</th><th>ptend_t_21</th><th>ptend_t_22</th><th>ptend_t_23</th><th>ptend_t_24</th><th>ptend_t_25</th><th>ptend_t_26</th><th>ptend_t_27</th><th>ptend_t_28</th><th>ptend_t_29</th><th>ptend_t_30</th><th>ptend_t_31</th><th>ptend_t_32</th><th>ptend_t_33</th><th>ptend_t_34</th><th>ptend_t_35</th><th>&hellip;</th><th>ptend_v_31</th><th>ptend_v_32</th><th>ptend_v_33</th><th>ptend_v_34</th><th>ptend_v_35</th><th>ptend_v_36</th><th>ptend_v_37</th><th>ptend_v_38</th><th>ptend_v_39</th><th>ptend_v_40</th><th>ptend_v_41</th><th>ptend_v_42</th><th>ptend_v_43</th><th>ptend_v_44</th><th>ptend_v_45</th><th>ptend_v_46</th><th>ptend_v_47</th><th>ptend_v_48</th><th>ptend_v_49</th><th>ptend_v_50</th><th>ptend_v_51</th><th>ptend_v_52</th><th>ptend_v_53</th><th>ptend_v_54</th><th>ptend_v_55</th><th>ptend_v_56</th><th>ptend_v_57</th><th>ptend_v_58</th><th>ptend_v_59</th><th>cam_out_NETSW</th><th>cam_out_FLWDS</th><th>cam_out_PRECSC</th><th>cam_out_PRECC</th><th>cam_out_SOLS</th><th>cam_out_SOLL</th><th>cam_out_SOLSD</th><th>cam_out_SOLLD</th></tr><tr><td>str</td><td>f64</td><td>f64</td><td>f64</td><td>f64</td><td>f64</td><td>f64</td><td>f64</td><td>f64</td><td>f64</td><td>f64</td><td>f64</td><td>f64</td><td>f64</td><td>f64</td><td>f64</td><td>f64</td><td>f64</td><td>f64</td><td>f64</td><td>f64</td><td>f64</td><td>f64</td><td>f64</td><td>f64</td><td>f64</td><td>f64</td><td>f64</td><td>f64</td><td>f64</td><td>f64</td><td>f64</td><td>f64</td><td>f64</td><td>f64</td><td>f64</td><td>f64</td><td>&hellip;</td><td>f64</td><td>f64</td><td>f64</td><td>f64</td><td>f64</td><td>f64</td><td>f64</td><td>f64</td><td>f64</td><td>f64</td><td>f64</td><td>f64</td><td>f64</td><td>f64</td><td>f64</td><td>f64</td><td>f64</td><td>f64</td><td>f64</td><td>f64</td><td>f64</td><td>f64</td><td>f64</td><td>f64</td><td>f64</td><td>f64</td><td>f64</td><td>f64</td><td>f64</td><td>f64</td><td>f64</td><td>f64</td><td>f64</td><td>f64</td><td>f64</td><td>f64</td><td>f64</td></tr></thead><tbody><tr><td>&quot;test_169651&quot;</td><td>0.124677</td><td>-1.007278</td><td>-0.192117</td><td>-1.378057</td><td>-0.572524</td><td>0.222971</td><td>-0.777888</td><td>-0.716334</td><td>-1.255825</td><td>0.181038</td><td>-0.48275</td><td>0.041311</td><td>-0.376691</td><td>-1.758966</td><td>-1.736086</td><td>-0.065468</td><td>-0.917387</td><td>-0.296403</td><td>0.094039</td><td>0.932011</td><td>-1.065752</td><td>0.384696</td><td>0.022317</td><td>-0.461148</td><td>0.018835</td><td>-0.719856</td><td>-0.295421</td><td>-0.66739</td><td>-1.059807</td><td>-0.678621</td><td>0.482414</td><td>-0.601461</td><td>1.757179</td><td>0.915641</td><td>1.926047</td><td>-0.627963</td><td>&hellip;</td><td>-0.898899</td><td>-0.649335</td><td>-0.164957</td><td>0.260218</td><td>1.90458</td><td>-0.994766</td><td>-0.145673</td><td>0.142815</td><td>-0.741808</td><td>-1.046173</td><td>-0.400692</td><td>-0.066703</td><td>-0.758601</td><td>-0.054225</td><td>0.216442</td><td>0.589557</td><td>0.429432</td><td>-0.377879</td><td>-0.011294</td><td>0.283561</td><td>1.186459</td><td>0.541874</td><td>0.891172</td><td>0.762373</td><td>1.925825</td><td>-0.020807</td><td>0.075439</td><td>0.836903</td><td>-0.35353</td><td>-0.114877</td><td>4.385973</td><td>1.178185</td><td>1.539026</td><td>1.84548</td><td>-1.183419</td><td>-0.468494</td><td>-0.629644</td></tr><tr><td>&quot;test_524862&quot;</td><td>0.108322</td><td>-0.748447</td><td>-0.243234</td><td>-1.293998</td><td>-0.855341</td><td>0.257199</td><td>-0.984338</td><td>-0.406773</td><td>-1.310549</td><td>0.56662</td><td>-0.808357</td><td>-0.172732</td><td>-0.228364</td><td>-1.832839</td><td>-1.374331</td><td>0.139125</td><td>-0.849411</td><td>-0.408373</td><td>-0.071014</td><td>0.336668</td><td>-0.759477</td><td>0.418464</td><td>0.022803</td><td>-0.525475</td><td>0.055539</td><td>-0.572054</td><td>-0.500681</td><td>-0.397145</td><td>-1.041158</td><td>-0.204908</td><td>0.476035</td><td>-0.507242</td><td>1.534286</td><td>1.57895</td><td>1.601194</td><td>-0.471444</td><td>&hellip;</td><td>-0.553401</td><td>-0.461895</td><td>-0.489359</td><td>0.410458</td><td>1.911755</td><td>-1.178438</td><td>-0.342894</td><td>0.127369</td><td>-0.211</td><td>-0.457648</td><td>-0.670948</td><td>0.337566</td><td>-0.577794</td><td>0.0536</td><td>0.205048</td><td>0.347196</td><td>0.399383</td><td>-0.050875</td><td>-0.031965</td><td>0.272825</td><td>1.217952</td><td>0.449942</td><td>0.984412</td><td>0.826105</td><td>1.924425</td><td>0.056369</td><td>0.323461</td><td>0.875705</td><td>-0.295352</td><td>0.190451</td><td>4.562908</td><td>1.233574</td><td>1.106093</td><td>2.140841</td><td>-0.991749</td><td>-0.359596</td><td>-0.583207</td></tr><tr><td>&quot;test_634129&quot;</td><td>0.651411</td><td>-0.927038</td><td>-0.44246</td><td>-0.696647</td><td>-0.282014</td><td>0.100042</td><td>-0.248137</td><td>-0.650167</td><td>-0.955356</td><td>-0.521746</td><td>-0.047167</td><td>-0.254486</td><td>-0.649556</td><td>-0.674906</td><td>-1.268359</td><td>-0.722866</td><td>-0.948638</td><td>-0.318003</td><td>0.4326</td><td>1.266577</td><td>-0.361869</td><td>0.468641</td><td>0.032918</td><td>0.283821</td><td>0.524757</td><td>-1.542533</td><td>-0.028452</td><td>-0.752367</td><td>-0.210423</td><td>-0.636298</td><td>0.547391</td><td>-0.509167</td><td>1.883996</td><td>-0.5378</td><td>1.437328</td><td>0.168556</td><td>&hellip;</td><td>-0.51131</td><td>-0.269343</td><td>0.466075</td><td>-0.267904</td><td>0.658941</td><td>-0.565821</td><td>-0.514293</td><td>-0.071036</td><td>-0.194864</td><td>-0.857479</td><td>-1.149802</td><td>-0.028307</td><td>-1.6293</td><td>-0.767375</td><td>0.296358</td><td>0.593829</td><td>0.119619</td><td>-0.555104</td><td>0.723982</td><td>-0.219385</td><td>0.845939</td><td>0.796625</td><td>0.929662</td><td>0.391794</td><td>0.831699</td><td>-0.036305</td><td>-0.026101</td><td>0.556258</td><td>0.379201</td><td>-0.54102</td><td>4.741184</td><td>0.892762</td><td>1.561308</td><td>0.55928</td><td>-1.233401</td><td>0.402468</td><td>-0.262548</td></tr><tr><td>&quot;test_403572&quot;</td><td>0.683376</td><td>-0.564882</td><td>-0.719156</td><td>-1.237702</td><td>-0.246709</td><td>0.100764</td><td>-0.976321</td><td>-0.267015</td><td>-1.088677</td><td>0.01891</td><td>-0.783819</td><td>-0.466255</td><td>-0.359284</td><td>-1.395041</td><td>-0.678661</td><td>-0.449623</td><td>-0.934176</td><td>-0.452861</td><td>0.378867</td><td>1.074733</td><td>-0.616598</td><td>0.156693</td><td>-0.036507</td><td>0.046165</td><td>0.278751</td><td>-1.356965</td><td>-0.011576</td><td>-0.505176</td><td>-1.046891</td><td>0.137418</td><td>0.471915</td><td>-0.711589</td><td>2.007202</td><td>0.466771</td><td>1.173848</td><td>0.284066</td><td>&hellip;</td><td>-0.245593</td><td>-0.21302</td><td>0.004746</td><td>0.086046</td><td>1.075701</td><td>-0.734155</td><td>-0.917046</td><td>-0.030417</td><td>-0.158722</td><td>-0.222039</td><td>-0.629152</td><td>0.224705</td><td>-1.79656</td><td>-0.553719</td><td>0.546814</td><td>0.089721</td><td>0.374866</td><td>0.065595</td><td>0.439342</td><td>-0.27252</td><td>0.511668</td><td>1.066785</td><td>1.394646</td><td>0.84447</td><td>1.291179</td><td>-0.178197</td><td>0.345722</td><td>0.79907</td><td>0.00505</td><td>0.020729</td><td>5.147259</td><td>1.088689</td><td>0.875809</td><td>1.151485</td><td>-1.744695</td><td>0.033023</td><td>-0.470501</td></tr><tr><td>&quot;test_484578&quot;</td><td>0.02522</td><td>-0.613135</td><td>-0.356634</td><td>-1.277793</td><td>-0.983284</td><td>0.107483</td><td>-1.255293</td><td>-0.232821</td><td>-1.215526</td><td>0.783466</td><td>-1.099706</td><td>-0.360489</td><td>-0.247308</td><td>-1.688113</td><td>-1.032351</td><td>0.062075</td><td>-0.715316</td><td>-0.454372</td><td>-0.15203</td><td>0.138635</td><td>-0.457236</td><td>0.356511</td><td>-0.007299</td><td>-0.385145</td><td>0.179759</td><td>-0.351621</td><td>-0.423886</td><td>-0.163357</td><td>-1.20478</td><td>0.22359</td><td>0.279913</td><td>-0.472156</td><td>1.196127</td><td>1.785247</td><td>1.368836</td><td>-0.479426</td><td>&hellip;</td><td>-0.481818</td><td>-0.394293</td><td>-0.511788</td><td>0.511488</td><td>1.776926</td><td>-1.101613</td><td>-0.668196</td><td>0.276869</td><td>0.103872</td><td>-0.121995</td><td>-0.479428</td><td>0.42762</td><td>-0.728373</td><td>0.137496</td><td>0.439049</td><td>0.102918</td><td>0.291754</td><td>0.197433</td><td>-0.120582</td><td>0.226583</td><td>1.143806</td><td>0.656347</td><td>1.029871</td><td>0.794858</td><td>1.488368</td><td>0.159726</td><td>0.359035</td><td>0.919102</td><td>-0.501634</td><td>0.261293</td><td>4.781443</td><td>1.12364</td><td>0.982583</td><td>1.914092</td><td>-1.103592</td><td>-0.271408</td><td>-0.376494</td></tr><tr><td>&hellip;</td><td>&hellip;</td><td>&hellip;</td><td>&hellip;</td><td>&hellip;</td><td>&hellip;</td><td>&hellip;</td><td>&hellip;</td><td>&hellip;</td><td>&hellip;</td><td>&hellip;</td><td>&hellip;</td><td>&hellip;</td><td>&hellip;</td><td>&hellip;</td><td>&hellip;</td><td>&hellip;</td><td>&hellip;</td><td>&hellip;</td><td>&hellip;</td><td>&hellip;</td><td>&hellip;</td><td>&hellip;</td><td>&hellip;</td><td>&hellip;</td><td>&hellip;</td><td>&hellip;</td><td>&hellip;</td><td>&hellip;</td><td>&hellip;</td><td>&hellip;</td><td>&hellip;</td><td>&hellip;</td><td>&hellip;</td><td>&hellip;</td><td>&hellip;</td><td>&hellip;</td><td>&hellip;</td><td>&hellip;</td><td>&hellip;</td><td>&hellip;</td><td>&hellip;</td><td>&hellip;</td><td>&hellip;</td><td>&hellip;</td><td>&hellip;</td><td>&hellip;</td><td>&hellip;</td><td>&hellip;</td><td>&hellip;</td><td>&hellip;</td><td>&hellip;</td><td>&hellip;</td><td>&hellip;</td><td>&hellip;</td><td>&hellip;</td><td>&hellip;</td><td>&hellip;</td><td>&hellip;</td><td>&hellip;</td><td>&hellip;</td><td>&hellip;</td><td>&hellip;</td><td>&hellip;</td><td>&hellip;</td><td>&hellip;</td><td>&hellip;</td><td>&hellip;</td><td>&hellip;</td><td>&hellip;</td><td>&hellip;</td><td>&hellip;</td><td>&hellip;</td><td>&hellip;</td><td>&hellip;</td></tr><tr><td>&quot;test_578220&quot;</td><td>0.730642</td><td>0.769522</td><td>1.252582</td><td>-0.18457</td><td>0.112471</td><td>0.911775</td><td>1.120061</td><td>1.928531</td><td>0.050175</td><td>1.253209</td><td>1.297536</td><td>1.122271</td><td>1.686525</td><td>0.656205</td><td>0.601943</td><td>0.936991</td><td>0.618569</td><td>1.75771</td><td>0.887919</td><td>-1.558903</td><td>-1.073441</td><td>-0.740223</td><td>0.244169</td><td>-1.834728</td><td>-1.518116</td><td>0.213287</td><td>-0.123435</td><td>-0.508857</td><td>-0.001693</td><td>-0.908333</td><td>0.626015</td><td>0.690882</td><td>0.753753</td><td>-0.846786</td><td>0.068136</td><td>-0.016083</td><td>&hellip;</td><td>0.862292</td><td>-1.112168</td><td>2.087615</td><td>-0.139901</td><td>0.360594</td><td>0.724807</td><td>0.679288</td><td>-0.991757</td><td>-2.346539</td><td>-0.583963</td><td>2.041459</td><td>-1.521808</td><td>1.097387</td><td>0.913482</td><td>0.618083</td><td>-0.14588</td><td>-0.107319</td><td>-1.265123</td><td>-2.25492</td><td>1.081255</td><td>-0.854415</td><td>-1.096845</td><td>0.296016</td><td>1.44832</td><td>1.280307</td><td>0.134763</td><td>-1.482382</td><td>0.182361</td><td>-1.493127</td><td>1.974612</td><td>4.722173</td><td>-0.178249</td><td>0.127466</td><td>0.939451</td><td>2.120978</td><td>1.095628</td><td>2.806765</td></tr><tr><td>&quot;test_395695&quot;</td><td>0.785334</td><td>0.657099</td><td>1.071503</td><td>-0.055116</td><td>0.568486</td><td>0.519377</td><td>0.670682</td><td>1.813909</td><td>-0.918204</td><td>1.43855</td><td>1.289834</td><td>1.526614</td><td>1.847539</td><td>0.403703</td><td>-0.080573</td><td>1.144178</td><td>0.969757</td><td>1.466047</td><td>0.763937</td><td>-0.729678</td><td>-0.582881</td><td>-1.693113</td><td>-1.004773</td><td>-1.685402</td><td>-1.11416</td><td>-0.27487</td><td>-0.208262</td><td>-0.387741</td><td>0.401706</td><td>-0.615327</td><td>1.482312</td><td>0.665615</td><td>0.378991</td><td>-0.736061</td><td>0.157026</td><td>0.556439</td><td>&hellip;</td><td>0.2584</td><td>-1.562385</td><td>1.357875</td><td>-0.50324</td><td>0.752024</td><td>-0.491292</td><td>0.796979</td><td>-0.209814</td><td>-1.786089</td><td>0.154297</td><td>0.860931</td><td>-1.192192</td><td>1.248076</td><td>1.061001</td><td>-0.179125</td><td>0.281164</td><td>-0.03153</td><td>-0.482932</td><td>-2.080122</td><td>1.67407</td><td>-0.184718</td><td>-0.907856</td><td>0.512878</td><td>1.071365</td><td>1.843426</td><td>0.082767</td><td>-1.218799</td><td>0.376708</td><td>-1.219324</td><td>1.921785</td><td>4.947554</td><td>0.347327</td><td>-0.095179</td><td>1.235312</td><td>2.401112</td><td>1.208279</td><td>2.563586</td></tr><tr><td>&quot;test_88942&quot;</td><td>0.807348</td><td>0.147261</td><td>0.860896</td><td>-0.148636</td><td>0.156016</td><td>0.805079</td><td>0.405442</td><td>0.939689</td><td>-1.548345</td><td>1.201384</td><td>0.785683</td><td>1.296361</td><td>1.832903</td><td>0.130852</td><td>-0.618704</td><td>0.43564</td><td>0.78224</td><td>1.495481</td><td>0.5365</td><td>-0.639999</td><td>-0.804102</td><td>-1.279864</td><td>-0.723772</td><td>-1.402843</td><td>-0.883203</td><td>-0.835729</td><td>-0.190832</td><td>-0.874723</td><td>0.109668</td><td>-0.7099</td><td>1.794228</td><td>0.517162</td><td>0.689301</td><td>-0.245793</td><td>0.601445</td><td>0.275952</td><td>&hellip;</td><td>0.076272</td><td>-1.521846</td><td>0.802355</td><td>-0.853596</td><td>1.03861</td><td>-1.029389</td><td>0.407341</td><td>0.262135</td><td>-1.383112</td><td>-0.106696</td><td>0.276898</td><td>-0.502465</td><td>0.889638</td><td>1.115929</td><td>-0.628039</td><td>0.743379</td><td>-0.228136</td><td>-0.491959</td><td>-1.638228</td><td>1.776552</td><td>0.109627</td><td>-0.653799</td><td>0.604562</td><td>0.899032</td><td>1.971132</td><td>0.088457</td><td>-1.092767</td><td>0.75611</td><td>-0.671765</td><td>1.22911</td><td>4.595594</td><td>0.351672</td><td>0.389521</td><td>1.389049</td><td>1.60175</td><td>1.210779</td><td>2.178151</td></tr><tr><td>&quot;test_79382&quot;</td><td>-0.014132</td><td>0.554941</td><td>0.451143</td><td>0.691615</td><td>-0.036389</td><td>1.831526</td><td>1.141127</td><td>1.584927</td><td>-0.392552</td><td>1.528162</td><td>-0.020337</td><td>1.099416</td><td>2.025553</td><td>0.665012</td><td>0.851293</td><td>0.513957</td><td>-0.136849</td><td>1.451558</td><td>0.321855</td><td>-2.524084</td><td>-0.042464</td><td>-0.010089</td><td>0.466659</td><td>-1.42025</td><td>-1.351025</td><td>-0.431036</td><td>-0.159848</td><td>-1.97513</td><td>-0.417282</td><td>-0.23704</td><td>0.544527</td><td>0.039205</td><td>0.720737</td><td>-0.463549</td><td>-0.00797</td><td>0.89513</td><td>&hellip;</td><td>1.091142</td><td>-0.341898</td><td>1.86764</td><td>-1.079765</td><td>-0.386645</td><td>0.627365</td><td>-0.954252</td><td>-1.838538</td><td>-1.954979</td><td>-0.180401</td><td>-0.26121</td><td>-0.460323</td><td>0.13716</td><td>0.819722</td><td>0.388573</td><td>-0.033685</td><td>-0.607847</td><td>-1.849826</td><td>-2.177387</td><td>0.222588</td><td>-0.837048</td><td>-1.045687</td><td>0.916692</td><td>1.277368</td><td>1.032867</td><td>0.742511</td><td>-1.486975</td><td>0.431403</td><td>-0.630134</td><td>1.773456</td><td>4.630304</td><td>-0.42544</td><td>-0.558155</td><td>0.418705</td><td>1.52639</td><td>2.194466</td><td>1.827733</td></tr><tr><td>&quot;test_601350&quot;</td><td>0.123148</td><td>-0.279599</td><td>0.655446</td><td>0.199309</td><td>-0.429816</td><td>1.964565</td><td>1.505792</td><td>0.982134</td><td>-2.03887</td><td>1.620022</td><td>-0.178828</td><td>1.116998</td><td>2.261488</td><td>0.26113</td><td>-0.312459</td><td>0.10965</td><td>-0.221558</td><td>1.039505</td><td>0.111345</td><td>-2.574794</td><td>0.293604</td><td>0.056887</td><td>0.625002</td><td>-1.562754</td><td>-1.268031</td><td>-0.233493</td><td>-0.611882</td><td>-1.802109</td><td>-0.310833</td><td>-0.379788</td><td>0.948199</td><td>0.346082</td><td>0.636434</td><td>0.388192</td><td>0.688263</td><td>0.542079</td><td>&hellip;</td><td>0.951407</td><td>-0.601713</td><td>1.185185</td><td>-1.417708</td><td>0.549874</td><td>-0.752363</td><td>-0.678564</td><td>-1.480983</td><td>-1.221307</td><td>-0.342572</td><td>-0.995823</td><td>0.199408</td><td>-0.144111</td><td>0.942614</td><td>-0.049504</td><td>0.578508</td><td>-0.782703</td><td>-1.878122</td><td>-2.138101</td><td>0.697426</td><td>-0.112506</td><td>-1.225279</td><td>1.280463</td><td>0.889269</td><td>2.284503</td><td>0.751022</td><td>-1.508629</td><td>0.749573</td><td>-0.4442</td><td>1.362039</td><td>4.346717</td><td>0.042618</td><td>-0.588625</td><td>0.998701</td><td>1.645337</td><td>1.852754</td><td>1.129682</td></tr></tbody></table></div>"
      ],
      "text/plain": [
       "shape: (625_000, 369)\n",
       "┌───────────┬───────────┬───────────┬───────────┬───┬───────────┬───────────┬───────────┬──────────┐\n",
       "│ sample_id ┆ ptend_t_0 ┆ ptend_t_1 ┆ ptend_t_2 ┆ … ┆ cam_out_S ┆ cam_out_S ┆ cam_out_S ┆ cam_out_ │\n",
       "│ ---       ┆ ---       ┆ ---       ┆ ---       ┆   ┆ OLS       ┆ OLL       ┆ OLSD      ┆ SOLLD    │\n",
       "│ str       ┆ f64       ┆ f64       ┆ f64       ┆   ┆ ---       ┆ ---       ┆ ---       ┆ ---      │\n",
       "│           ┆           ┆           ┆           ┆   ┆ f64       ┆ f64       ┆ f64       ┆ f64      │\n",
       "╞═══════════╪═══════════╪═══════════╪═══════════╪═══╪═══════════╪═══════════╪═══════════╪══════════╡\n",
       "│ test_1696 ┆ 0.124677  ┆ -1.007278 ┆ -0.192117 ┆ … ┆ 1.84548   ┆ -1.183419 ┆ -0.468494 ┆ -0.62964 │\n",
       "│ 51        ┆           ┆           ┆           ┆   ┆           ┆           ┆           ┆ 4        │\n",
       "│ test_5248 ┆ 0.108322  ┆ -0.748447 ┆ -0.243234 ┆ … ┆ 2.140841  ┆ -0.991749 ┆ -0.359596 ┆ -0.58320 │\n",
       "│ 62        ┆           ┆           ┆           ┆   ┆           ┆           ┆           ┆ 7        │\n",
       "│ test_6341 ┆ 0.651411  ┆ -0.927038 ┆ -0.44246  ┆ … ┆ 0.55928   ┆ -1.233401 ┆ 0.402468  ┆ -0.26254 │\n",
       "│ 29        ┆           ┆           ┆           ┆   ┆           ┆           ┆           ┆ 8        │\n",
       "│ test_4035 ┆ 0.683376  ┆ -0.564882 ┆ -0.719156 ┆ … ┆ 1.151485  ┆ -1.744695 ┆ 0.033023  ┆ -0.47050 │\n",
       "│ 72        ┆           ┆           ┆           ┆   ┆           ┆           ┆           ┆ 1        │\n",
       "│ test_4845 ┆ 0.02522   ┆ -0.613135 ┆ -0.356634 ┆ … ┆ 1.914092  ┆ -1.103592 ┆ -0.271408 ┆ -0.37649 │\n",
       "│ 78        ┆           ┆           ┆           ┆   ┆           ┆           ┆           ┆ 4        │\n",
       "│ …         ┆ …         ┆ …         ┆ …         ┆ … ┆ …         ┆ …         ┆ …         ┆ …        │\n",
       "│ test_5782 ┆ 0.730642  ┆ 0.769522  ┆ 1.252582  ┆ … ┆ 0.939451  ┆ 2.120978  ┆ 1.095628  ┆ 2.806765 │\n",
       "│ 20        ┆           ┆           ┆           ┆   ┆           ┆           ┆           ┆          │\n",
       "│ test_3956 ┆ 0.785334  ┆ 0.657099  ┆ 1.071503  ┆ … ┆ 1.235312  ┆ 2.401112  ┆ 1.208279  ┆ 2.563586 │\n",
       "│ 95        ┆           ┆           ┆           ┆   ┆           ┆           ┆           ┆          │\n",
       "│ test_8894 ┆ 0.807348  ┆ 0.147261  ┆ 0.860896  ┆ … ┆ 1.389049  ┆ 1.60175   ┆ 1.210779  ┆ 2.178151 │\n",
       "│ 2         ┆           ┆           ┆           ┆   ┆           ┆           ┆           ┆          │\n",
       "│ test_7938 ┆ -0.014132 ┆ 0.554941  ┆ 0.451143  ┆ … ┆ 0.418705  ┆ 1.52639   ┆ 2.194466  ┆ 1.827733 │\n",
       "│ 2         ┆           ┆           ┆           ┆   ┆           ┆           ┆           ┆          │\n",
       "│ test_6013 ┆ 0.123148  ┆ -0.279599 ┆ 0.655446  ┆ … ┆ 0.998701  ┆ 1.645337  ┆ 1.852754  ┆ 1.129682 │\n",
       "│ 50        ┆           ┆           ┆           ┆   ┆           ┆           ┆           ┆          │\n",
       "└───────────┴───────────┴───────────┴───────────┴───┴───────────┴───────────┴───────────┴──────────┘"
      ]
     },
     "execution_count": 15,
     "metadata": {},
     "output_type": "execute_result"
    }
   ],
   "source": [
    "%%time \n",
    "print(\"Saving Test File\")\n",
    "df_subm_final = df_subm.astype(np.float64) * 1\n",
    "df_subm_final.iloc[:, :] = (0 * df_subm.iloc[:, :]) + predictions1\n",
    "df_subm_final = df_subm_final.reset_index()\n",
    "df_subm_final = df_subm_final[[\"sample_id\"] + TARGET_NAMES]\n",
    "df_subm_final = pl.from_pandas(df_subm_final)\n",
    "df_subm_final.write_csv(\"submission.csv\")\n",
    "\n",
    "df_subm_final"
   ]
  }
 ],
 "metadata": {
  "kaggle": {
   "accelerator": "gpu",
   "dataSources": [
    {
     "databundleVersionId": 8015876,
     "sourceId": 56537,
     "sourceType": "competition"
    }
   ],
   "dockerImageVersionId": 30698,
   "isGpuEnabled": true,
   "isInternetEnabled": false,
   "language": "python",
   "sourceType": "notebook"
  },
  "kernelspec": {
   "display_name": "Python 3",
   "language": "python",
   "name": "python3"
  },
  "language_info": {
   "codemirror_mode": {
    "name": "ipython",
    "version": 3
   },
   "file_extension": ".py",
   "mimetype": "text/x-python",
   "name": "python",
   "nbconvert_exporter": "python",
   "pygments_lexer": "ipython3",
   "version": "3.10.13"
  },
  "papermill": {
   "default_parameters": {},
   "duration": 1136.513744,
   "end_time": "2024-05-29T03:14:11.172007",
   "environment_variables": {},
   "exception": null,
   "input_path": "__notebook__.ipynb",
   "output_path": "__notebook__.ipynb",
   "parameters": {},
   "start_time": "2024-05-29T02:55:14.658263",
   "version": "2.5.0"
  }
 },
 "nbformat": 4,
 "nbformat_minor": 5
}
