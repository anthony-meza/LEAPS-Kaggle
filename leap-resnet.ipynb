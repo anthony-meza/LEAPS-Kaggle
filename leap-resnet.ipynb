{
 "cells": [
  {
   "cell_type": "code",
   "execution_count": 1,
   "id": "49d07354",
   "metadata": {
    "_cell_guid": "b1076dfc-b9ad-4769-8c92-a6c4dae69d19",
    "_uuid": "8f2839f25d086af736a60e9eeb907d3b93b6e0e5",
    "execution": {
     "iopub.execute_input": "2024-05-29T02:15:02.962085Z",
     "iopub.status.busy": "2024-05-29T02:15:02.961823Z",
     "iopub.status.idle": "2024-05-29T02:15:14.043208Z",
     "shell.execute_reply": "2024-05-29T02:15:14.042254Z"
    },
    "papermill": {
     "duration": 11.089464,
     "end_time": "2024-05-29T02:15:14.045352",
     "exception": false,
     "start_time": "2024-05-29T02:15:02.955888",
     "status": "completed"
    },
    "tags": []
   },
   "outputs": [
    {
     "name": "stdout",
     "output_type": "stream",
     "text": [
      "Supported Device:  cuda\n"
     ]
    }
   ],
   "source": [
    "# standard\n",
    "import numpy as np\n",
    "import pandas as pd\n",
    "import polars as pl\n",
    "from sklearn.model_selection import train_test_split\n",
    "import dask.dataframe as dd\n",
    "\n",
    "# Import necessary libraries\n",
    "import torch\n",
    "import torch.nn as nn\n",
    "from torch.optim import lr_scheduler\n",
    "from torch.utils.data import DataLoader, TensorDataset, random_split\n",
    "import torch.nn.init as init\n",
    "import matplotlib.pyplot as plt\n",
    "\n",
    "from ignite.engine import create_supervised_trainer, create_supervised_evaluator\n",
    "from ignite.metrics import Accuracy, Loss\n",
    "from ignite.handlers import FastaiLRFinder\n",
    "\n",
    "# generator1 = torch.Generator().manual_seed(42)\n",
    "\n",
    "DEVICE = torch.device(\"cuda\" if torch.cuda.is_available() else \"cpu\")\n",
    "print(\"Supported Device: \", DEVICE)\n",
    "\n",
    "# Decide random state\n",
    "torch.manual_seed(42)\n",
    "torch.set_default_dtype(torch.float32) #this is a bug, if using ADAM optimizer need to explicit in all operations. Can't just set default to float64\n",
    "DTYPE = torch.float64"
   ]
  },
  {
   "cell_type": "code",
   "execution_count": 2,
   "id": "fc0b6f40",
   "metadata": {
    "execution": {
     "iopub.execute_input": "2024-05-29T02:15:14.056052Z",
     "iopub.status.busy": "2024-05-29T02:15:14.055601Z",
     "iopub.status.idle": "2024-05-29T02:15:14.068408Z",
     "shell.execute_reply": "2024-05-29T02:15:14.067537Z"
    },
    "papermill": {
     "duration": 0.020086,
     "end_time": "2024-05-29T02:15:14.070208",
     "exception": false,
     "start_time": "2024-05-29T02:15:14.050122",
     "status": "completed"
    },
    "tags": []
   },
   "outputs": [],
   "source": [
    "# Define ResNet architecture without Batch Normalization\n",
    "class ResidualBlock(nn.Module):\n",
    "    def __init__(self, in_features, out_features):\n",
    "        super(ResidualBlock, self).__init__()\n",
    "        self.layer = nn.Sequential(\n",
    "            nn.Linear(in_features, out_features, dtype=DTYPE),\n",
    "            nn.ReLU(inplace=True).double(),\n",
    "            nn.Linear(out_features, out_features, dtype=DTYPE),\n",
    "            nn.ReLU(inplace=True).double(),\n",
    "            nn.Linear(out_features, out_features, dtype=DTYPE),\n",
    "        )\n",
    "        if (in_features != out_features):\n",
    "            self.fc = nn.Linear(in_features, out_features, dtype=DTYPE)\n",
    "        else:\n",
    "            self.fc = nn.Identity(dtype=DTYPE)\n",
    "    \n",
    "    def forward(self, x):\n",
    "        return self.fc(x) + self.layer(x)\n",
    "\n",
    "class ResNet(nn.Module):\n",
    "    def __init__(self, in_features, out_features, hidden_features, num_blocks):\n",
    "        super(ResNet, self).__init__()\n",
    "        \n",
    "        layers = [ResidualBlock(in_features, hidden_features)]\n",
    "        layers += [ResidualBlock(hidden_features, hidden_features) for _ in range(num_blocks-2)]\n",
    "        layers.append(ResidualBlock(hidden_features, out_features))\n",
    "\n",
    "        self.network = nn.Sequential(*layers)\n",
    "        self.fc = nn.Linear(out_features, out_features, dtype=DTYPE)\n",
    "    \n",
    "    def forward(self, x):\n",
    "        out = self.network(x)\n",
    "        return self.fc(out)\n",
    "# He initialization function\n",
    "def weights_init(m):\n",
    "    if isinstance(m, nn.Linear):\n",
    "        init.kaiming_uniform_(m.weight, nonlinearity='relu')  # He initialization\n",
    "        if m.bias is not None:\n",
    "            init.zeros_(m.bias)\n",
    "            \n",
    "def r2_score_custom(y_pred:torch.Tensor, y_true:torch.Tensor) -> float:\n",
    "    \n",
    "    ss_res = torch.sum((y_true - y_pred) ** 2)\n",
    "    ss_tot = torch.sum((y_true - torch.mean(y_true)) ** 2)\n",
    "    \n",
    "    r2 = 1 - ss_res / ss_tot\n",
    "    \n",
    "    return r2.item()\n"
   ]
  },
  {
   "cell_type": "code",
   "execution_count": 3,
   "id": "2d5e80f1",
   "metadata": {
    "execution": {
     "iopub.execute_input": "2024-05-29T02:15:14.080317Z",
     "iopub.status.busy": "2024-05-29T02:15:14.080044Z",
     "iopub.status.idle": "2024-05-29T02:15:22.105559Z",
     "shell.execute_reply": "2024-05-29T02:15:22.104508Z"
    },
    "papermill": {
     "duration": 8.032847,
     "end_time": "2024-05-29T02:15:22.107599",
     "exception": false,
     "start_time": "2024-05-29T02:15:14.074752",
     "status": "completed"
    },
    "tags": []
   },
   "outputs": [
    {
     "name": "stdout",
     "output_type": "stream",
     "text": [
      "CPU times: user 9.75 s, sys: 3.09 s, total: 12.8 s\n",
      "Wall time: 8.02 s\n"
     ]
    }
   ],
   "source": [
    "%%time\n",
    "# Import each file\n",
    "# temporarily set n_rows for saving time\n",
    "n_rows = 100000\n",
    "folder = 'leap-atmospheric-physics-ai-climsim'\n",
    "df_train = pl.read_csv('../input/'+folder+'/train.csv', n_rows=n_rows).to_pandas()\n",
    "df_sub = pl.read_csv('../input/'+folder+'/sample_submission.csv', n_rows=2).to_pandas()"
   ]
  },
  {
   "cell_type": "code",
   "execution_count": 4,
   "id": "4ebcf420",
   "metadata": {
    "execution": {
     "iopub.execute_input": "2024-05-29T02:15:22.118334Z",
     "iopub.status.busy": "2024-05-29T02:15:22.118030Z",
     "iopub.status.idle": "2024-05-29T02:15:23.930290Z",
     "shell.execute_reply": "2024-05-29T02:15:23.929487Z"
    },
    "papermill": {
     "duration": 1.820108,
     "end_time": "2024-05-29T02:15:23.932552",
     "exception": false,
     "start_time": "2024-05-29T02:15:22.112444",
     "status": "completed"
    },
    "tags": []
   },
   "outputs": [],
   "source": [
    "torch.manual_seed(42)\n",
    "weights = df_sub.iloc[0, 1:].values.astype(np.float64)\n",
    "weights = torch.tensor(weights, dtype=DTYPE)\n",
    "\n",
    "# Prepare data for training\n",
    "x_train = torch.tensor(1 * df_train.iloc[:, 1:557].values, dtype=DTYPE)\n",
    "y_train = torch.tensor(1 * df_train.iloc[:, 557:].values, dtype=DTYPE)\n",
    "y_train = y_train * weights\n",
    "\n",
    "# Create a dataset and shuffle it\n",
    "dataset = TensorDataset(x_train, y_train)\n",
    "train_size = int(0.8 * len(dataset))\n",
    "val_size = len(dataset) - train_size\n",
    "train_dataset, val_dataset = random_split(dataset, [train_size, val_size])\n",
    "\n",
    "y_t = y_train[train_dataset.indices, :].to(DEVICE, dtype = DTYPE)\n",
    "y_v = y_train[val_dataset.indices, :].to(DEVICE, dtype = DTYPE)\n",
    "\n",
    "SS_res_train = torch.sum((y_t - y_t.mean())**2)\n",
    "SS_res_val = torch.sum((y_v - y_v.mean())**2)\n",
    "\n",
    "# Create data loaders\n",
    "train_loader = DataLoader(train_dataset, batch_size=5000, shuffle=True)\n",
    "val_loader = DataLoader(val_dataset, batch_size=5000, shuffle=True)"
   ]
  },
  {
   "cell_type": "code",
   "execution_count": 5,
   "id": "05ff8185",
   "metadata": {
    "execution": {
     "iopub.execute_input": "2024-05-29T02:15:23.943104Z",
     "iopub.status.busy": "2024-05-29T02:15:23.942814Z",
     "iopub.status.idle": "2024-05-29T02:15:57.201848Z",
     "shell.execute_reply": "2024-05-29T02:15:57.200936Z"
    },
    "papermill": {
     "duration": 33.270014,
     "end_time": "2024-05-29T02:15:57.207353",
     "exception": false,
     "start_time": "2024-05-29T02:15:23.937339",
     "status": "completed"
    },
    "tags": []
   },
   "outputs": [
    {
     "data": {
      "image/png": "[encoded data removed]",
      "text/plain": [
       "<Figure size 640x480 with 1 Axes>"
      ]
     },
     "metadata": {},
     "output_type": "display_data"
    },
    {
     "name": "stdout",
     "output_type": "stream",
     "text": [
      "Suggested LR 2.942727176209282e-05\n"
     ]
    }
   ],
   "source": [
    "torch.manual_seed(42)\n",
    "\n",
    "# Model parameters\n",
    "input_dim = x_train.shape[1]\n",
    "output_dim = y_train.shape[1]\n",
    "hidden_dim = np.int64(np.mean([input_dim, output_dim]).round()) #hidden layers is the mean of the number of inputs and outputs\n",
    "num_res_blocks = 7\n",
    "\n",
    "# Create ResNet model\n",
    "model = ResNet(input_dim, output_dim, hidden_dim, num_res_blocks)\n",
    "model = model.to(DEVICE, dtype = DTYPE)\n",
    "criterion = nn.MSELoss().to(DEVICE, dtype = DTYPE)\n",
    "optimizer = torch.optim.Adam(model.parameters(), lr=1e-6)\n",
    "\n",
    "trainer = create_supervised_trainer(model, optimizer, criterion, device=DEVICE)\n",
    "\n",
    "lr_finder = FastaiLRFinder()\n",
    "\n",
    "# To restore the model's and optimizer's states after running the LR Finder\n",
    "to_save = {\"model\": model, \"optimizer\": optimizer}\n",
    "\n",
    "with lr_finder.attach(trainer, to_save, end_lr=1e-01) as trainer_with_lr_finder:\n",
    "    trainer_with_lr_finder.run(train_loader, max_epochs=10)\n",
    "\n",
    "lr_finder.plot()\n",
    "\n",
    "print(\"Suggested LR\", lr_finder.lr_suggestion())"
   ]
  },
  {
   "cell_type": "code",
   "execution_count": 6,
   "id": "75210d09",
   "metadata": {
    "execution": {
     "iopub.execute_input": "2024-05-29T02:15:57.218679Z",
     "iopub.status.busy": "2024-05-29T02:15:57.218374Z",
     "iopub.status.idle": "2024-05-29T02:32:18.950345Z",
     "shell.execute_reply": "2024-05-29T02:32:18.949342Z"
    },
    "papermill": {
     "duration": 981.74645,
     "end_time": "2024-05-29T02:32:18.958878",
     "exception": false,
     "start_time": "2024-05-29T02:15:57.212428",
     "status": "completed"
    },
    "tags": []
   },
   "outputs": [
    {
     "name": "stdout",
     "output_type": "stream",
     "text": [
      "Epoch [10/200], Train Loss: 5.0188, Val Loss: 4.4897\n",
      "Epoch [10/200], Train $R^2$: -4.9178, Val $R^2$: -4.4011\n",
      "Epoch [20/200], Train Loss: 6.5290, Val Loss: 3.3502\n",
      "Epoch [20/200], Train $R^2$: -6.6985, Val $R^2$: -3.0302\n",
      "Epoch [30/200], Train Loss: 7.5258, Val Loss: 2.6437\n",
      "Epoch [30/200], Train $R^2$: -7.8739, Val $R^2$: -2.1803\n",
      "Epoch [40/200], Train Loss: 1.8366, Val Loss: 1.8009\n",
      "Epoch [40/200], Train $R^2$: -1.1656, Val $R^2$: -1.1665\n",
      "Epoch [50/200], Train Loss: 62.2422, Val Loss: 327.2454\n",
      "Epoch [50/200], Train $R^2$: -72.3917, Val $R^2$: -392.6735\n",
      "Epoch [60/200], Train Loss: 1.5158, Val Loss: 1.4791\n",
      "Epoch [60/200], Train $R^2$: -0.7874, Val $R^2$: -0.7793\n",
      "Epoch [70/200], Train Loss: 1.4272, Val Loss: 1.7924\n",
      "Epoch [70/200], Train $R^2$: -0.6829, Val $R^2$: -1.1563\n",
      "Epoch [80/200], Train Loss: 66.0808, Val Loss: 159.6467\n",
      "Epoch [80/200], Train $R^2$: -76.9178, Val $R^2$: -191.0537\n",
      "Epoch [90/200], Train Loss: 1.9147, Val Loss: 1.2872\n",
      "Epoch [90/200], Train $R^2$: -1.2577, Val $R^2$: -0.5485\n",
      "Epoch [100/200], Train Loss: 20.0436, Val Loss: 29.4488\n",
      "Epoch [100/200], Train $R^2$: -22.6340, Val $R^2$: -34.4267\n",
      "Epoch [110/200], Train Loss: 13.9579, Val Loss: 8.8965\n",
      "Epoch [110/200], Train $R^2$: -15.4581, Val $R^2$: -9.7024\n",
      "Epoch [120/200], Train Loss: 1.4625, Val Loss: 1.7737\n",
      "Epoch [120/200], Train $R^2$: -0.7245, Val $R^2$: -1.1337\n",
      "Epoch [130/200], Train Loss: 51.2098, Val Loss: 26.8718\n",
      "Epoch [130/200], Train $R^2$: -59.3830, Val $R^2$: -31.3266\n",
      "Epoch [140/200], Train Loss: 8.1818, Val Loss: 199.0514\n",
      "Epoch [140/200], Train $R^2$: -8.6475, Val $R^2$: -238.4571\n",
      "Epoch [150/200], Train Loss: 0.9777, Val Loss: 1.1956\n",
      "Epoch [150/200], Train $R^2$: -0.1528, Val $R^2$: -0.4383\n",
      "Epoch [160/200], Train Loss: 9.7897, Val Loss: 7.0553\n",
      "Epoch [160/200], Train $R^2$: -10.5433, Val $R^2$: -7.4875\n",
      "Epoch [170/200], Train Loss: 2.2150, Val Loss: 7.0505\n",
      "Epoch [170/200], Train $R^2$: -1.6118, Val $R^2$: -7.4817\n",
      "Epoch [180/200], Train Loss: 6.3564, Val Loss: 2.2558\n",
      "Epoch [180/200], Train $R^2$: -6.4950, Val $R^2$: -1.7137\n",
      "Epoch [190/200], Train Loss: 8.3707, Val Loss: 42.6994\n",
      "Epoch [190/200], Train $R^2$: -8.8701, Val $R^2$: -50.3670\n",
      "Epoch [200/200], Train Loss: 20.8869, Val Loss: 11.8577\n",
      "Epoch [200/200], Train $R^2$: -23.6284, Val $R^2$: -13.2647\n"
     ]
    }
   ],
   "source": [
    "torch.manual_seed(42)\n",
    "\n",
    "# Model parameters\n",
    "input_dim = x_train.shape[1]\n",
    "output_dim = y_train.shape[1]\n",
    "hidden_dim = np.int64(np.mean([input_dim, output_dim]).round()) #hidden layers is the mean of the number of inputs and outputs\n",
    "num_res_blocks = 7\n",
    "\n",
    "# Create ResNet model\n",
    "model = ResNet(input_dim, output_dim, hidden_dim, num_res_blocks)\n",
    "model = model.to(DEVICE, dtype = DTYPE)\n",
    "\n",
    "# Apply the He weight initialization (does not work well)\n",
    "# model.apply(weights_init)\n",
    "\n",
    "num_epochs = 200\n",
    "\n",
    "# Training settings\n",
    "criterion = nn.MSELoss(reduction = \"mean\").to(DEVICE, dtype = DTYPE)\n",
    "optimizer = torch.optim.Adam(model.parameters(), lr=0.001)\n",
    "# lr_finder.apply_suggested_lr(optimizer)\n",
    "\n",
    "# Training loop\n",
    "for epoch in range(num_epochs):\n",
    "    model.train()\n",
    "    train_loss = 0\n",
    "    for batch_in, batch_out in train_loader:\n",
    "        \n",
    "        batch_in = batch_in.to(DEVICE, dtype = DTYPE)\n",
    "        batch_out = batch_out.to(DEVICE, dtype = DTYPE)\n",
    "\n",
    "        optimizer.zero_grad()\n",
    "        predictions = model(batch_in)\n",
    "        \n",
    "        loss = criterion(predictions, batch_out)\n",
    "        loss.backward()\n",
    "        optimizer.step()\n",
    "        train_loss += loss.item()\n",
    "    \n",
    "    # Validation\n",
    "    model.eval()\n",
    "    val_loss = 0\n",
    "    with torch.no_grad():\n",
    "        for batch_in, batch_out in val_loader:\n",
    "            batch_in = batch_in.to(DEVICE, dtype = torch.float64)\n",
    "            batch_out = batch_out.to(DEVICE, dtype = torch.float64)\n",
    "\n",
    "            predictions = model(batch_in)\n",
    "            loss = criterion(predictions, batch_out)\n",
    "            val_loss += loss.item()\n",
    "#     scheduler.step()\n",
    "    if (epoch + 1) % 10 == 0:\n",
    "        Rsq_train = (train_loss * train_loader.batch_size * output_dim) / SS_res_train; Rsq_train = 1 - Rsq_train\n",
    "        Rsq_test = (val_loss * val_loader.batch_size * output_dim) / SS_res_val; Rsq_test = 1 - Rsq_test\n",
    "        \n",
    "        print(f'Epoch [{epoch+1}/{num_epochs}], Train Loss: {train_loss/len(train_loader):.4f}, Val Loss: {val_loss/len(val_loader):.4f}')\n",
    "        print(f'Epoch [{epoch+1}/{num_epochs}], Train $R^2$: {Rsq_train:.4f}, Val $R^2$: {Rsq_test:.4f}')"
   ]
  },
  {
   "cell_type": "code",
   "execution_count": 7,
   "id": "205b27a1",
   "metadata": {
    "execution": {
     "iopub.execute_input": "2024-05-29T02:32:18.973478Z",
     "iopub.status.busy": "2024-05-29T02:32:18.973186Z",
     "iopub.status.idle": "2024-05-29T02:32:19.751579Z",
     "shell.execute_reply": "2024-05-29T02:32:19.750532Z"
    },
    "papermill": {
     "duration": 0.788153,
     "end_time": "2024-05-29T02:32:19.753795",
     "exception": false,
     "start_time": "2024-05-29T02:32:18.965642",
     "status": "completed"
    },
    "tags": []
   },
   "outputs": [
    {
     "name": "stdout",
     "output_type": "stream",
     "text": [
      "Val $R^2$: -13.2647\n"
     ]
    }
   ],
   "source": [
    "model.eval()\n",
    "val_loss = 0\n",
    "with torch.no_grad():\n",
    "    for batch_in, batch_out in val_loader:\n",
    "        batch_in = batch_in.to(DEVICE, dtype = torch.float64)\n",
    "        batch_out = batch_out.to(DEVICE, dtype = torch.float64)\n",
    "\n",
    "        predictions = model(batch_in)\n",
    "        loss = criterion(predictions, batch_out)\n",
    "        val_loss += loss.item()\n",
    "    Rsq_test = (val_loss * val_loader.batch_size * output_dim) / SS_res_val; Rsq_test = 1 - Rsq_test\n",
    "    print(f'Val $R^2$: {Rsq_test:.4f}')"
   ]
  },
  {
   "cell_type": "code",
   "execution_count": 8,
   "id": "ebdb3d92",
   "metadata": {
    "execution": {
     "iopub.execute_input": "2024-05-29T02:32:19.768888Z",
     "iopub.status.busy": "2024-05-29T02:32:19.768280Z",
     "iopub.status.idle": "2024-05-29T02:32:20.047383Z",
     "shell.execute_reply": "2024-05-29T02:32:20.046374Z"
    },
    "papermill": {
     "duration": 0.288724,
     "end_time": "2024-05-29T02:32:20.049405",
     "exception": false,
     "start_time": "2024-05-29T02:32:19.760681",
     "status": "completed"
    },
    "tags": []
   },
   "outputs": [
    {
     "name": "stdout",
     "output_type": "stream",
     "text": [
      "-13.264672097763592\n"
     ]
    }
   ],
   "source": [
    "x_v = x_train[val_dataset.indices, :].to(DEVICE, dtype = DTYPE)\n",
    "\n",
    "model.eval()\n",
    "with torch.no_grad():\n",
    "        predictions = model(x_v)\n",
    "print(r2_score_custom(predictions, y_v))"
   ]
  },
  {
   "cell_type": "code",
   "execution_count": 9,
   "id": "37c17a9e",
   "metadata": {
    "execution": {
     "iopub.execute_input": "2024-05-29T02:32:20.064524Z",
     "iopub.status.busy": "2024-05-29T02:32:20.064201Z",
     "iopub.status.idle": "2024-05-29T02:32:20.124675Z",
     "shell.execute_reply": "2024-05-29T02:32:20.123932Z"
    },
    "papermill": {
     "duration": 0.070479,
     "end_time": "2024-05-29T02:32:20.127011",
     "exception": false,
     "start_time": "2024-05-29T02:32:20.056532",
     "status": "completed"
    },
    "tags": []
   },
   "outputs": [],
   "source": [
    "torch.save(model.state_dict(), \"best_model.pth\")"
   ]
  },
  {
   "cell_type": "code",
   "execution_count": 10,
   "id": "ad60b18f",
   "metadata": {
    "execution": {
     "iopub.execute_input": "2024-05-29T02:32:20.143067Z",
     "iopub.status.busy": "2024-05-29T02:32:20.142782Z",
     "iopub.status.idle": "2024-05-29T02:32:20.248511Z",
     "shell.execute_reply": "2024-05-29T02:32:20.247497Z"
    },
    "papermill": {
     "duration": 0.115894,
     "end_time": "2024-05-29T02:32:20.250512",
     "exception": false,
     "start_time": "2024-05-29T02:32:20.134618",
     "status": "completed"
    },
    "tags": []
   },
   "outputs": [
    {
     "data": {
      "text/plain": [
       "<All keys matched successfully>"
      ]
     },
     "execution_count": 10,
     "metadata": {},
     "output_type": "execute_result"
    }
   ],
   "source": [
    "model = ResNet(input_dim, output_dim, hidden_dim, num_res_blocks)\n",
    "model = model.to(DEVICE)\n",
    "model.load_state_dict(torch.load(\"best_model.pth\", map_location=DEVICE))"
   ]
  },
  {
   "cell_type": "code",
   "execution_count": 11,
   "id": "530ce4af",
   "metadata": {
    "execution": {
     "iopub.execute_input": "2024-05-29T02:32:20.266045Z",
     "iopub.status.busy": "2024-05-29T02:32:20.265763Z",
     "iopub.status.idle": "2024-05-29T02:32:20.439249Z",
     "shell.execute_reply": "2024-05-29T02:32:20.438352Z"
    },
    "papermill": {
     "duration": 0.183501,
     "end_time": "2024-05-29T02:32:20.441364",
     "exception": false,
     "start_time": "2024-05-29T02:32:20.257863",
     "status": "completed"
    },
    "tags": []
   },
   "outputs": [],
   "source": [
    "import gc \n",
    "gc.collect()\n",
    "torch.cuda.empty_cache()"
   ]
  },
  {
   "cell_type": "code",
   "execution_count": 12,
   "id": "545c1b09",
   "metadata": {
    "execution": {
     "iopub.execute_input": "2024-05-29T02:32:20.458157Z",
     "iopub.status.busy": "2024-05-29T02:32:20.457868Z",
     "iopub.status.idle": "2024-05-29T02:33:03.655114Z",
     "shell.execute_reply": "2024-05-29T02:33:03.654300Z"
    },
    "papermill": {
     "duration": 43.207779,
     "end_time": "2024-05-29T02:33:03.657489",
     "exception": false,
     "start_time": "2024-05-29T02:32:20.449710",
     "status": "completed"
    },
    "tags": []
   },
   "outputs": [],
   "source": [
    "df_test = pl.read_csv('../input/'+folder+'/test.csv')\n",
    "df_test = df_test.to_pandas()\n",
    "df_test = df_test.set_index(\"sample_id\")\n",
    "\n",
    "df_subm = pl.read_csv('../input/'+folder+'/sample_submission.csv')\n",
    "df_subm = df_subm.to_pandas()\n",
    "df_subm = df_subm.set_index(\"sample_id\")"
   ]
  },
  {
   "cell_type": "code",
   "execution_count": 13,
   "id": "2be18357",
   "metadata": {
    "execution": {
     "iopub.execute_input": "2024-05-29T02:33:03.674020Z",
     "iopub.status.busy": "2024-05-29T02:33:03.673235Z",
     "iopub.status.idle": "2024-05-29T02:33:09.711287Z",
     "shell.execute_reply": "2024-05-29T02:33:09.710301Z"
    },
    "papermill": {
     "duration": 6.04873,
     "end_time": "2024-05-29T02:33:09.713714",
     "exception": false,
     "start_time": "2024-05-29T02:33:03.664984",
     "status": "completed"
    },
    "tags": []
   },
   "outputs": [],
   "source": [
    "# Prepare data for training\n",
    "x_test = torch.tensor(1 * df_test.to_numpy()).to(DEVICE, dtype=DTYPE)\n",
    "\n",
    "model.eval()\n",
    "with torch.no_grad():\n",
    "        predictions1 = model(x_test).cpu().detach().numpy()\n"
   ]
  },
  {
   "cell_type": "code",
   "execution_count": 14,
   "id": "2817b36d",
   "metadata": {
    "execution": {
     "iopub.execute_input": "2024-05-29T02:33:09.731268Z",
     "iopub.status.busy": "2024-05-29T02:33:09.730964Z",
     "iopub.status.idle": "2024-05-29T02:33:09.749226Z",
     "shell.execute_reply": "2024-05-29T02:33:09.748417Z"
    },
    "papermill": {
     "duration": 0.02881,
     "end_time": "2024-05-29T02:33:09.751042",
     "exception": false,
     "start_time": "2024-05-29T02:33:09.722232",
     "status": "completed"
    },
    "tags": []
   },
   "outputs": [],
   "source": [
    "TARGET_NAMES = ['ptend_t_0', 'ptend_t_1', 'ptend_t_2', 'ptend_t_3', 'ptend_t_4', 'ptend_t_5', 'ptend_t_6', 'ptend_t_7', 'ptend_t_8', 'ptend_t_9', 'ptend_t_10', 'ptend_t_11', 'ptend_t_12', 'ptend_t_13', 'ptend_t_14', 'ptend_t_15', 'ptend_t_16', 'ptend_t_17', 'ptend_t_18', 'ptend_t_19', 'ptend_t_20', 'ptend_t_21', 'ptend_t_22', 'ptend_t_23', 'ptend_t_24', 'ptend_t_25', 'ptend_t_26', 'ptend_t_27', 'ptend_t_28', 'ptend_t_29', 'ptend_t_30', 'ptend_t_31', 'ptend_t_32', 'ptend_t_33', 'ptend_t_34', 'ptend_t_35', 'ptend_t_36', 'ptend_t_37', 'ptend_t_38', 'ptend_t_39', 'ptend_t_40', 'ptend_t_41', 'ptend_t_42', 'ptend_t_43', 'ptend_t_44', 'ptend_t_45', 'ptend_t_46', 'ptend_t_47', 'ptend_t_48', 'ptend_t_49', 'ptend_t_50', 'ptend_t_51', 'ptend_t_52', 'ptend_t_53', 'ptend_t_54', 'ptend_t_55', 'ptend_t_56', 'ptend_t_57', 'ptend_t_58', 'ptend_t_59', 'ptend_q0001_0', 'ptend_q0001_1', 'ptend_q0001_2', 'ptend_q0001_3', 'ptend_q0001_4', 'ptend_q0001_5', 'ptend_q0001_6', 'ptend_q0001_7', 'ptend_q0001_8', 'ptend_q0001_9', 'ptend_q0001_10', 'ptend_q0001_11', 'ptend_q0001_12', 'ptend_q0001_13', 'ptend_q0001_14', 'ptend_q0001_15', 'ptend_q0001_16', 'ptend_q0001_17', 'ptend_q0001_18', 'ptend_q0001_19', 'ptend_q0001_20', 'ptend_q0001_21', 'ptend_q0001_22', 'ptend_q0001_23', 'ptend_q0001_24', 'ptend_q0001_25', 'ptend_q0001_26', 'ptend_q0001_27', 'ptend_q0001_28', 'ptend_q0001_29', 'ptend_q0001_30', 'ptend_q0001_31', 'ptend_q0001_32', 'ptend_q0001_33', 'ptend_q0001_34', 'ptend_q0001_35', 'ptend_q0001_36', 'ptend_q0001_37', 'ptend_q0001_38', 'ptend_q0001_39', 'ptend_q0001_40', 'ptend_q0001_41', 'ptend_q0001_42', 'ptend_q0001_43', 'ptend_q0001_44', 'ptend_q0001_45', 'ptend_q0001_46', 'ptend_q0001_47', 'ptend_q0001_48', 'ptend_q0001_49', 'ptend_q0001_50', 'ptend_q0001_51', 'ptend_q0001_52', 'ptend_q0001_53', 'ptend_q0001_54', 'ptend_q0001_55', 'ptend_q0001_56', 'ptend_q0001_57', 'ptend_q0001_58', 'ptend_q0001_59', 'ptend_q0002_0', 'ptend_q0002_1', 'ptend_q0002_2', 'ptend_q0002_3', 'ptend_q0002_4', 'ptend_q0002_5', 'ptend_q0002_6', 'ptend_q0002_7', 'ptend_q0002_8', 'ptend_q0002_9', 'ptend_q0002_10', 'ptend_q0002_11', 'ptend_q0002_12', 'ptend_q0002_13', 'ptend_q0002_14', 'ptend_q0002_15', 'ptend_q0002_16', 'ptend_q0002_17', 'ptend_q0002_18', 'ptend_q0002_19', 'ptend_q0002_20', 'ptend_q0002_21', 'ptend_q0002_22', 'ptend_q0002_23', 'ptend_q0002_24', 'ptend_q0002_25', 'ptend_q0002_26', 'ptend_q0002_27', 'ptend_q0002_28', 'ptend_q0002_29', 'ptend_q0002_30', 'ptend_q0002_31', 'ptend_q0002_32', 'ptend_q0002_33', 'ptend_q0002_34', 'ptend_q0002_35', 'ptend_q0002_36', 'ptend_q0002_37', 'ptend_q0002_38', 'ptend_q0002_39', 'ptend_q0002_40', 'ptend_q0002_41', 'ptend_q0002_42', 'ptend_q0002_43', 'ptend_q0002_44', 'ptend_q0002_45', 'ptend_q0002_46', 'ptend_q0002_47', 'ptend_q0002_48', 'ptend_q0002_49', 'ptend_q0002_50', 'ptend_q0002_51', 'ptend_q0002_52', 'ptend_q0002_53', 'ptend_q0002_54', 'ptend_q0002_55', 'ptend_q0002_56', 'ptend_q0002_57', 'ptend_q0002_58', 'ptend_q0002_59', 'ptend_q0003_0', 'ptend_q0003_1', 'ptend_q0003_2', 'ptend_q0003_3', 'ptend_q0003_4', 'ptend_q0003_5', 'ptend_q0003_6', 'ptend_q0003_7', 'ptend_q0003_8', 'ptend_q0003_9', 'ptend_q0003_10', 'ptend_q0003_11', 'ptend_q0003_12', 'ptend_q0003_13', 'ptend_q0003_14', 'ptend_q0003_15', 'ptend_q0003_16', 'ptend_q0003_17', 'ptend_q0003_18', 'ptend_q0003_19', 'ptend_q0003_20', 'ptend_q0003_21', 'ptend_q0003_22', 'ptend_q0003_23', 'ptend_q0003_24', 'ptend_q0003_25', 'ptend_q0003_26', 'ptend_q0003_27', 'ptend_q0003_28', 'ptend_q0003_29', 'ptend_q0003_30', 'ptend_q0003_31', 'ptend_q0003_32', 'ptend_q0003_33', 'ptend_q0003_34', 'ptend_q0003_35', 'ptend_q0003_36', 'ptend_q0003_37', 'ptend_q0003_38', 'ptend_q0003_39', 'ptend_q0003_40', 'ptend_q0003_41', 'ptend_q0003_42', 'ptend_q0003_43', 'ptend_q0003_44', 'ptend_q0003_45', 'ptend_q0003_46', 'ptend_q0003_47', 'ptend_q0003_48', 'ptend_q0003_49', 'ptend_q0003_50', 'ptend_q0003_51', 'ptend_q0003_52', 'ptend_q0003_53', 'ptend_q0003_54', 'ptend_q0003_55', 'ptend_q0003_56', 'ptend_q0003_57', 'ptend_q0003_58', 'ptend_q0003_59', 'ptend_u_0', 'ptend_u_1', 'ptend_u_2', 'ptend_u_3', 'ptend_u_4', 'ptend_u_5', 'ptend_u_6', 'ptend_u_7', 'ptend_u_8', 'ptend_u_9', 'ptend_u_10', 'ptend_u_11', 'ptend_u_12', 'ptend_u_13', 'ptend_u_14', 'ptend_u_15', 'ptend_u_16', 'ptend_u_17', 'ptend_u_18', 'ptend_u_19', 'ptend_u_20', 'ptend_u_21', 'ptend_u_22', 'ptend_u_23', 'ptend_u_24', 'ptend_u_25', 'ptend_u_26', 'ptend_u_27', 'ptend_u_28', 'ptend_u_29', 'ptend_u_30', 'ptend_u_31', 'ptend_u_32', 'ptend_u_33', 'ptend_u_34', 'ptend_u_35', 'ptend_u_36', 'ptend_u_37', 'ptend_u_38', 'ptend_u_39', 'ptend_u_40', 'ptend_u_41', 'ptend_u_42', 'ptend_u_43', 'ptend_u_44', 'ptend_u_45', 'ptend_u_46', 'ptend_u_47', 'ptend_u_48', 'ptend_u_49', 'ptend_u_50', 'ptend_u_51', 'ptend_u_52', 'ptend_u_53', 'ptend_u_54', 'ptend_u_55', 'ptend_u_56', 'ptend_u_57', 'ptend_u_58', 'ptend_u_59', 'ptend_v_0', 'ptend_v_1', 'ptend_v_2', 'ptend_v_3', 'ptend_v_4', 'ptend_v_5', 'ptend_v_6', 'ptend_v_7', 'ptend_v_8', 'ptend_v_9', 'ptend_v_10', 'ptend_v_11', 'ptend_v_12', 'ptend_v_13', 'ptend_v_14', 'ptend_v_15', 'ptend_v_16', 'ptend_v_17', 'ptend_v_18', 'ptend_v_19', 'ptend_v_20', 'ptend_v_21', 'ptend_v_22', 'ptend_v_23', 'ptend_v_24', 'ptend_v_25', 'ptend_v_26', 'ptend_v_27', 'ptend_v_28', 'ptend_v_29', 'ptend_v_30', 'ptend_v_31', 'ptend_v_32', 'ptend_v_33', 'ptend_v_34', 'ptend_v_35', 'ptend_v_36', 'ptend_v_37', 'ptend_v_38', 'ptend_v_39', 'ptend_v_40', 'ptend_v_41', 'ptend_v_42', 'ptend_v_43', 'ptend_v_44', 'ptend_v_45', 'ptend_v_46', 'ptend_v_47', 'ptend_v_48', 'ptend_v_49', 'ptend_v_50', 'ptend_v_51', 'ptend_v_52', 'ptend_v_53', 'ptend_v_54', 'ptend_v_55', 'ptend_v_56', 'ptend_v_57', 'ptend_v_58', 'ptend_v_59', 'cam_out_NETSW', 'cam_out_FLWDS', 'cam_out_PRECSC', 'cam_out_PRECC', 'cam_out_SOLS', 'cam_out_SOLL', 'cam_out_SOLSD', 'cam_out_SOLLD']"
   ]
  },
  {
   "cell_type": "code",
   "execution_count": 15,
   "id": "a053a1d4",
   "metadata": {
    "execution": {
     "iopub.execute_input": "2024-05-29T02:33:09.767133Z",
     "iopub.status.busy": "2024-05-29T02:33:09.766656Z",
     "iopub.status.idle": "2024-05-29T02:33:35.024881Z",
     "shell.execute_reply": "2024-05-29T02:33:35.023815Z"
    },
    "papermill": {
     "duration": 25.269319,
     "end_time": "2024-05-29T02:33:35.027729",
     "exception": false,
     "start_time": "2024-05-29T02:33:09.758410",
     "status": "completed"
    },
    "tags": []
   },
   "outputs": [
    {
     "name": "stdout",
     "output_type": "stream",
     "text": [
      "Saving Test File\n",
      "CPU times: user 31 s, sys: 10 s, total: 41 s\n",
      "Wall time: 25.2 s\n"
     ]
    },
    {
     "data": {
      "text/html": [
       "<div><style>\n",
       ".dataframe > thead > tr,\n",
       ".dataframe > tbody > tr {\n",
       "  text-align: right;\n",
       "  white-space: pre-wrap;\n",
       "}\n",
       "</style>\n",
       "<small>shape: (625_000, 369)</small><table border=\"1\" class=\"dataframe\"><thead><tr><th>sample_id</th><th>ptend_t_0</th><th>ptend_t_1</th><th>ptend_t_2</th><th>ptend_t_3</th><th>ptend_t_4</th><th>ptend_t_5</th><th>ptend_t_6</th><th>ptend_t_7</th><th>ptend_t_8</th><th>ptend_t_9</th><th>ptend_t_10</th><th>ptend_t_11</th><th>ptend_t_12</th><th>ptend_t_13</th><th>ptend_t_14</th><th>ptend_t_15</th><th>ptend_t_16</th><th>ptend_t_17</th><th>ptend_t_18</th><th>ptend_t_19</th><th>ptend_t_20</th><th>ptend_t_21</th><th>ptend_t_22</th><th>ptend_t_23</th><th>ptend_t_24</th><th>ptend_t_25</th><th>ptend_t_26</th><th>ptend_t_27</th><th>ptend_t_28</th><th>ptend_t_29</th><th>ptend_t_30</th><th>ptend_t_31</th><th>ptend_t_32</th><th>ptend_t_33</th><th>ptend_t_34</th><th>ptend_t_35</th><th>&hellip;</th><th>ptend_v_31</th><th>ptend_v_32</th><th>ptend_v_33</th><th>ptend_v_34</th><th>ptend_v_35</th><th>ptend_v_36</th><th>ptend_v_37</th><th>ptend_v_38</th><th>ptend_v_39</th><th>ptend_v_40</th><th>ptend_v_41</th><th>ptend_v_42</th><th>ptend_v_43</th><th>ptend_v_44</th><th>ptend_v_45</th><th>ptend_v_46</th><th>ptend_v_47</th><th>ptend_v_48</th><th>ptend_v_49</th><th>ptend_v_50</th><th>ptend_v_51</th><th>ptend_v_52</th><th>ptend_v_53</th><th>ptend_v_54</th><th>ptend_v_55</th><th>ptend_v_56</th><th>ptend_v_57</th><th>ptend_v_58</th><th>ptend_v_59</th><th>cam_out_NETSW</th><th>cam_out_FLWDS</th><th>cam_out_PRECSC</th><th>cam_out_PRECC</th><th>cam_out_SOLS</th><th>cam_out_SOLL</th><th>cam_out_SOLSD</th><th>cam_out_SOLLD</th></tr><tr><td>str</td><td>f64</td><td>f64</td><td>f64</td><td>f64</td><td>f64</td><td>f64</td><td>f64</td><td>f64</td><td>f64</td><td>f64</td><td>f64</td><td>f64</td><td>f64</td><td>f64</td><td>f64</td><td>f64</td><td>f64</td><td>f64</td><td>f64</td><td>f64</td><td>f64</td><td>f64</td><td>f64</td><td>f64</td><td>f64</td><td>f64</td><td>f64</td><td>f64</td><td>f64</td><td>f64</td><td>f64</td><td>f64</td><td>f64</td><td>f64</td><td>f64</td><td>f64</td><td>&hellip;</td><td>f64</td><td>f64</td><td>f64</td><td>f64</td><td>f64</td><td>f64</td><td>f64</td><td>f64</td><td>f64</td><td>f64</td><td>f64</td><td>f64</td><td>f64</td><td>f64</td><td>f64</td><td>f64</td><td>f64</td><td>f64</td><td>f64</td><td>f64</td><td>f64</td><td>f64</td><td>f64</td><td>f64</td><td>f64</td><td>f64</td><td>f64</td><td>f64</td><td>f64</td><td>f64</td><td>f64</td><td>f64</td><td>f64</td><td>f64</td><td>f64</td><td>f64</td><td>f64</td></tr></thead><tbody><tr><td>&quot;test_169651&quot;</td><td>-4.601527</td><td>2.6245</td><td>-1.795152</td><td>1.235084</td><td>2.209193</td><td>4.163567</td><td>-3.697299</td><td>-0.028088</td><td>-1.750453</td><td>-1.254288</td><td>-4.374637</td><td>3.002044</td><td>4.019411</td><td>-0.729789</td><td>-4.82154</td><td>-0.586309</td><td>-3.627411</td><td>-1.766672</td><td>-1.504773</td><td>-0.980651</td><td>-4.854871</td><td>-0.094185</td><td>-0.977295</td><td>-2.444881</td><td>-5.85389</td><td>0.621412</td><td>-0.352003</td><td>1.529289</td><td>-0.817998</td><td>2.28068</td><td>0.019889</td><td>4.381995</td><td>2.312443</td><td>-0.746304</td><td>-5.392465</td><td>1.32323</td><td>&hellip;</td><td>-7.545562</td><td>-1.475141</td><td>-0.77687</td><td>-1.433433</td><td>-2.544754</td><td>-4.379588</td><td>1.199069</td><td>-3.151813</td><td>-3.846676</td><td>-2.086249</td><td>-1.775887</td><td>-4.326705</td><td>-2.095383</td><td>-7.48569</td><td>3.650819</td><td>-5.203331</td><td>-1.549666</td><td>-1.465878</td><td>0.432873</td><td>-3.352524</td><td>-3.805938</td><td>-2.068177</td><td>-1.719047</td><td>-3.973596</td><td>3.735955</td><td>-9.037212</td><td>1.702785</td><td>-3.622391</td><td>-2.014232</td><td>-2.318247</td><td>8.21556</td><td>2.082081</td><td>-3.670496</td><td>3.698085</td><td>0.387274</td><td>-6.832365</td><td>1.403947</td></tr><tr><td>&quot;test_524862&quot;</td><td>-4.66954</td><td>2.943426</td><td>-1.871974</td><td>1.244295</td><td>2.320335</td><td>4.20348</td><td>-3.775626</td><td>0.005835</td><td>-1.860936</td><td>-1.082256</td><td>-4.436355</td><td>3.046276</td><td>4.057827</td><td>-0.82243</td><td>-4.848087</td><td>-0.722418</td><td>-3.833802</td><td>-2.104524</td><td>-1.697184</td><td>-1.157298</td><td>-4.784723</td><td>-0.00942</td><td>-0.976134</td><td>-2.294092</td><td>-5.806876</td><td>0.707647</td><td>-0.268856</td><td>1.773364</td><td>-0.725797</td><td>2.322146</td><td>0.228963</td><td>4.441513</td><td>2.220481</td><td>-0.621358</td><td>-5.430422</td><td>1.423817</td><td>&hellip;</td><td>-7.49598</td><td>-1.521955</td><td>-0.565955</td><td>-1.224552</td><td>-2.40576</td><td>-4.459136</td><td>1.147612</td><td>-3.318797</td><td>-3.777255</td><td>-2.10432</td><td>-1.923786</td><td>-4.43832</td><td>-2.158011</td><td>-7.519642</td><td>3.739393</td><td>-5.228821</td><td>-1.651555</td><td>-1.417599</td><td>0.543456</td><td>-3.300901</td><td>-3.73605</td><td>-1.895197</td><td>-1.573412</td><td>-3.899317</td><td>3.839386</td><td>-9.152423</td><td>1.699035</td><td>-3.725093</td><td>-2.03517</td><td>-2.278201</td><td>8.027186</td><td>2.284608</td><td>-3.65581</td><td>3.774382</td><td>0.241817</td><td>-6.947244</td><td>1.564415</td></tr><tr><td>&quot;test_634129&quot;</td><td>-4.414387</td><td>2.18968</td><td>-1.831386</td><td>1.372747</td><td>2.083491</td><td>4.119446</td><td>-3.358384</td><td>-0.013848</td><td>-1.291931</td><td>-1.384708</td><td>-4.033559</td><td>3.071118</td><td>3.910927</td><td>-0.360256</td><td>-4.589613</td><td>-0.495463</td><td>-3.55236</td><td>-1.147292</td><td>-1.324974</td><td>-0.939754</td><td>-4.790749</td><td>-0.169434</td><td>-0.859269</td><td>-2.392724</td><td>-5.645461</td><td>0.725437</td><td>-0.285449</td><td>1.497623</td><td>-0.665368</td><td>2.349504</td><td>-0.125779</td><td>4.450104</td><td>2.332068</td><td>-0.976697</td><td>-5.396951</td><td>1.536073</td><td>&hellip;</td><td>-7.443292</td><td>-1.053032</td><td>-0.721093</td><td>-1.578938</td><td>-2.912932</td><td>-3.903206</td><td>0.870946</td><td>-3.001054</td><td>-3.860927</td><td>-2.051106</td><td>-2.038253</td><td>-4.426877</td><td>-2.180881</td><td>-7.793127</td><td>3.529378</td><td>-5.525305</td><td>-1.590938</td><td>-1.526345</td><td>0.486426</td><td>-3.2713</td><td>-3.780444</td><td>-2.027693</td><td>-1.258085</td><td>-3.717183</td><td>3.201546</td><td>-8.472341</td><td>1.647802</td><td>-3.513096</td><td>-2.016283</td><td>-2.401037</td><td>8.453485</td><td>1.535662</td><td>-3.433772</td><td>3.622062</td><td>0.777968</td><td>-6.275424</td><td>1.248173</td></tr><tr><td>&quot;test_403572&quot;</td><td>-4.637377</td><td>2.529356</td><td>-1.84373</td><td>1.014004</td><td>2.226396</td><td>4.284337</td><td>-3.432975</td><td>0.132018</td><td>-1.567761</td><td>-1.179087</td><td>-4.184816</td><td>3.194855</td><td>4.069161</td><td>-0.692001</td><td>-4.594318</td><td>-0.687445</td><td>-3.73604</td><td>-1.518004</td><td>-1.440328</td><td>-1.029232</td><td>-4.818281</td><td>-0.234527</td><td>-0.937958</td><td>-2.425002</td><td>-5.968739</td><td>0.782939</td><td>-0.415627</td><td>1.642914</td><td>-0.702988</td><td>2.313123</td><td>0.03953</td><td>4.528011</td><td>2.31934</td><td>-0.943834</td><td>-5.589964</td><td>1.462828</td><td>&hellip;</td><td>-7.45118</td><td>-1.284451</td><td>-0.571655</td><td>-1.339737</td><td>-2.64589</td><td>-4.14899</td><td>0.851431</td><td>-3.007134</td><td>-3.904682</td><td>-1.919997</td><td>-2.03856</td><td>-4.503331</td><td>-2.33521</td><td>-7.784961</td><td>3.781779</td><td>-5.65373</td><td>-1.515834</td><td>-1.523927</td><td>0.40751</td><td>-3.360391</td><td>-3.924726</td><td>-1.847391</td><td>-1.242305</td><td>-3.600578</td><td>3.72981</td><td>-8.704507</td><td>1.647748</td><td>-3.873945</td><td>-2.283007</td><td>-2.27934</td><td>8.510414</td><td>1.819476</td><td>-3.700018</td><td>3.734228</td><td>0.632079</td><td>-6.836791</td><td>1.457373</td></tr><tr><td>&quot;test_484578&quot;</td><td>-4.749496</td><td>3.072101</td><td>-1.928517</td><td>1.244655</td><td>2.45327</td><td>4.109194</td><td>-3.91243</td><td>-0.002704</td><td>-1.879539</td><td>-1.013104</td><td>-4.571645</td><td>3.036997</td><td>3.9048</td><td>-0.879987</td><td>-4.839125</td><td>-0.895553</td><td>-3.854527</td><td>-2.241255</td><td>-1.887517</td><td>-1.303557</td><td>-4.752385</td><td>0.071522</td><td>-0.878248</td><td>-2.151255</td><td>-5.880483</td><td>0.819994</td><td>-0.13918</td><td>1.914358</td><td>-0.663969</td><td>2.462066</td><td>0.233123</td><td>4.482708</td><td>2.041324</td><td>-0.663055</td><td>-5.496988</td><td>1.46888</td><td>&hellip;</td><td>-7.351241</td><td>-1.394031</td><td>-0.435814</td><td>-1.121071</td><td>-2.523944</td><td>-4.691345</td><td>0.844382</td><td>-3.395242</td><td>-3.853461</td><td>-2.174365</td><td>-1.929517</td><td>-4.593722</td><td>-2.352999</td><td>-7.510444</td><td>3.745246</td><td>-5.271133</td><td>-1.85461</td><td>-1.290734</td><td>0.519316</td><td>-3.220448</td><td>-3.732818</td><td>-1.614023</td><td>-1.304623</td><td>-3.618987</td><td>3.889216</td><td>-8.99794</td><td>1.85671</td><td>-3.7392</td><td>-2.37997</td><td>-2.37484</td><td>8.004066</td><td>2.318715</td><td>-3.577529</td><td>3.756237</td><td>0.023915</td><td>-7.023003</td><td>1.719027</td></tr><tr><td>&hellip;</td><td>&hellip;</td><td>&hellip;</td><td>&hellip;</td><td>&hellip;</td><td>&hellip;</td><td>&hellip;</td><td>&hellip;</td><td>&hellip;</td><td>&hellip;</td><td>&hellip;</td><td>&hellip;</td><td>&hellip;</td><td>&hellip;</td><td>&hellip;</td><td>&hellip;</td><td>&hellip;</td><td>&hellip;</td><td>&hellip;</td><td>&hellip;</td><td>&hellip;</td><td>&hellip;</td><td>&hellip;</td><td>&hellip;</td><td>&hellip;</td><td>&hellip;</td><td>&hellip;</td><td>&hellip;</td><td>&hellip;</td><td>&hellip;</td><td>&hellip;</td><td>&hellip;</td><td>&hellip;</td><td>&hellip;</td><td>&hellip;</td><td>&hellip;</td><td>&hellip;</td><td>&hellip;</td><td>&hellip;</td><td>&hellip;</td><td>&hellip;</td><td>&hellip;</td><td>&hellip;</td><td>&hellip;</td><td>&hellip;</td><td>&hellip;</td><td>&hellip;</td><td>&hellip;</td><td>&hellip;</td><td>&hellip;</td><td>&hellip;</td><td>&hellip;</td><td>&hellip;</td><td>&hellip;</td><td>&hellip;</td><td>&hellip;</td><td>&hellip;</td><td>&hellip;</td><td>&hellip;</td><td>&hellip;</td><td>&hellip;</td><td>&hellip;</td><td>&hellip;</td><td>&hellip;</td><td>&hellip;</td><td>&hellip;</td><td>&hellip;</td><td>&hellip;</td><td>&hellip;</td><td>&hellip;</td><td>&hellip;</td><td>&hellip;</td><td>&hellip;</td><td>&hellip;</td><td>&hellip;</td></tr><tr><td>&quot;test_578220&quot;</td><td>-3.498349</td><td>4.05013</td><td>-1.031499</td><td>3.421783</td><td>4.370144</td><td>5.59595</td><td>-0.911697</td><td>1.740901</td><td>0.862073</td><td>0.447151</td><td>-1.525184</td><td>5.057091</td><td>5.773311</td><td>1.245155</td><td>-2.821723</td><td>1.381203</td><td>-2.014194</td><td>-0.882393</td><td>-0.269711</td><td>-0.426148</td><td>-4.111715</td><td>0.903363</td><td>-0.987791</td><td>-2.017078</td><td>-5.175839</td><td>0.912705</td><td>0.205419</td><td>1.739643</td><td>-0.83965</td><td>2.361871</td><td>0.080045</td><td>4.206131</td><td>2.064273</td><td>-1.314312</td><td>-5.497274</td><td>1.576286</td><td>&hellip;</td><td>-7.037838</td><td>-1.415156</td><td>-1.256482</td><td>-2.418846</td><td>-3.356002</td><td>-4.47323</td><td>0.935534</td><td>-3.095537</td><td>-4.056154</td><td>-2.347795</td><td>-1.548313</td><td>-4.181624</td><td>-2.018294</td><td>-8.160072</td><td>4.269623</td><td>-5.267968</td><td>-1.354231</td><td>-1.510717</td><td>0.437498</td><td>-3.50169</td><td>-4.094002</td><td>-1.857552</td><td>-1.411952</td><td>-2.961359</td><td>2.696739</td><td>-8.635419</td><td>1.449919</td><td>-3.601088</td><td>-1.467652</td><td>-0.446066</td><td>8.558424</td><td>1.677979</td><td>-3.57912</td><td>5.273728</td><td>2.049669</td><td>-4.486031</td><td>2.714056</td></tr><tr><td>&quot;test_395695&quot;</td><td>-3.163106</td><td>3.679054</td><td>-0.502937</td><td>2.794074</td><td>4.202903</td><td>5.986949</td><td>-1.310437</td><td>2.1283</td><td>0.151405</td><td>0.615227</td><td>-1.527795</td><td>5.359505</td><td>5.82494</td><td>0.952527</td><td>-3.177169</td><td>0.902748</td><td>-2.014514</td><td>-0.716437</td><td>-0.543745</td><td>-0.798379</td><td>-4.036797</td><td>0.292762</td><td>-1.404577</td><td>-2.20877</td><td>-5.58982</td><td>0.97531</td><td>-0.123036</td><td>1.411822</td><td>-0.763117</td><td>2.180212</td><td>0.562934</td><td>4.172745</td><td>2.142279</td><td>-1.203156</td><td>-5.236292</td><td>1.51501</td><td>&hellip;</td><td>-7.120075</td><td>-1.380893</td><td>-0.976819</td><td>-2.588275</td><td>-2.65536</td><td>-4.339892</td><td>1.117712</td><td>-3.386851</td><td>-4.275786</td><td>-2.274384</td><td>-2.178839</td><td>-4.547636</td><td>-2.056513</td><td>-7.693267</td><td>3.575688</td><td>-5.150237</td><td>-1.210916</td><td>-1.650724</td><td>0.286161</td><td>-2.980935</td><td>-3.653218</td><td>-2.249928</td><td>-1.506767</td><td>-2.942033</td><td>3.629019</td><td>-8.758676</td><td>1.415472</td><td>-3.504524</td><td>-1.966139</td><td>-0.434831</td><td>8.810769</td><td>1.552943</td><td>-4.125972</td><td>5.474841</td><td>2.640348</td><td>-4.820995</td><td>2.458705</td></tr><tr><td>&quot;test_88942&quot;</td><td>-3.442916</td><td>3.232931</td><td>-0.575676</td><td>2.458768</td><td>3.407448</td><td>5.834266</td><td>-1.853879</td><td>1.62542</td><td>-0.328986</td><td>0.199665</td><td>-2.222707</td><td>4.924998</td><td>5.38391</td><td>1.08971</td><td>-3.319787</td><td>0.439478</td><td>-2.390178</td><td>-0.612663</td><td>-0.768116</td><td>-0.897784</td><td>-4.147579</td><td>0.106693</td><td>-1.651984</td><td>-2.182315</td><td>-5.458467</td><td>0.958909</td><td>-0.241303</td><td>1.335663</td><td>-1.13768</td><td>2.14197</td><td>0.758525</td><td>4.516663</td><td>2.345084</td><td>-1.133583</td><td>-5.14886</td><td>1.578867</td><td>&hellip;</td><td>-7.860327</td><td>-1.693379</td><td>-1.31563</td><td>-2.61755</td><td>-2.751179</td><td>-4.110935</td><td>1.132655</td><td>-3.221951</td><td>-4.011468</td><td>-2.146128</td><td>-1.965289</td><td>-4.580295</td><td>-2.104974</td><td>-7.456621</td><td>3.164356</td><td>-4.981117</td><td>-1.525311</td><td>-1.634016</td><td>0.443023</td><td>-2.802794</td><td>-3.430709</td><td>-1.898684</td><td>-1.701349</td><td>-3.216894</td><td>3.790554</td><td>-8.565627</td><td>1.322974</td><td>-3.499422</td><td>-1.901455</td><td>-0.948415</td><td>8.61295</td><td>1.405047</td><td>-3.881192</td><td>5.097659</td><td>2.176929</td><td>-5.257822</td><td>2.165964</td></tr><tr><td>&quot;test_79382&quot;</td><td>-3.784855</td><td>3.607319</td><td>-1.543415</td><td>3.325955</td><td>4.145417</td><td>5.612278</td><td>-1.220875</td><td>1.289788</td><td>0.62672</td><td>0.046786</td><td>-2.04425</td><td>5.313872</td><td>5.937704</td><td>1.279817</td><td>-2.813189</td><td>1.219139</td><td>-2.502153</td><td>-1.159046</td><td>-0.564435</td><td>-0.535018</td><td>-3.987524</td><td>0.915007</td><td>-0.976034</td><td>-2.365877</td><td>-5.267879</td><td>0.933707</td><td>0.104368</td><td>1.665541</td><td>-0.974634</td><td>2.023209</td><td>0.000051</td><td>3.804682</td><td>1.907833</td><td>-1.172397</td><td>-5.512252</td><td>1.437249</td><td>&hellip;</td><td>-8.569058</td><td>-2.07314</td><td>-1.377086</td><td>-2.548711</td><td>-3.264491</td><td>-3.966336</td><td>0.647091</td><td>-3.074244</td><td>-3.961602</td><td>-2.256405</td><td>-2.038118</td><td>-4.703827</td><td>-2.384454</td><td>-8.420047</td><td>3.734347</td><td>-5.406617</td><td>-2.162513</td><td>-1.810358</td><td>0.08223</td><td>-3.597404</td><td>-3.483985</td><td>-1.26173</td><td>-1.161672</td><td>-3.129032</td><td>2.851222</td><td>-8.002516</td><td>1.215202</td><td>-3.407638</td><td>-1.155626</td><td>-1.052468</td><td>7.896586</td><td>1.433273</td><td>-3.250173</td><td>4.817067</td><td>2.244827</td><td>-4.559932</td><td>1.912241</td></tr><tr><td>&quot;test_601350&quot;</td><td>-3.888315</td><td>3.167492</td><td>-1.399882</td><td>2.6081</td><td>3.567139</td><td>5.506809</td><td>-1.750977</td><td>0.9368</td><td>-0.441591</td><td>-0.146615</td><td>-2.815901</td><td>4.884942</td><td>5.72668</td><td>0.998036</td><td>-3.508569</td><td>0.53172</td><td>-2.802592</td><td>-1.502098</td><td>-1.003515</td><td>-1.08075</td><td>-3.666074</td><td>0.780944</td><td>-0.949692</td><td>-2.224477</td><td>-5.377993</td><td>0.977279</td><td>0.018707</td><td>1.718698</td><td>-1.126469</td><td>2.010933</td><td>0.299874</td><td>4.093183</td><td>1.824567</td><td>-0.681912</td><td>-5.124154</td><td>1.512112</td><td>&hellip;</td><td>-8.31111</td><td>-1.879709</td><td>-0.839018</td><td>-2.477636</td><td>-2.868132</td><td>-3.949478</td><td>0.702238</td><td>-3.548831</td><td>-3.682776</td><td>-2.222348</td><td>-2.121173</td><td>-4.6041</td><td>-2.410049</td><td>-8.129813</td><td>3.163549</td><td>-5.057683</td><td>-2.250202</td><td>-1.747101</td><td>0.132147</td><td>-3.204777</td><td>-3.178614</td><td>-1.336825</td><td>-1.072034</td><td>-3.466307</td><td>3.5419</td><td>-8.169416</td><td>1.31547</td><td>-3.316717</td><td>-1.437069</td><td>-1.306577</td><td>7.82499</td><td>1.595977</td><td>-3.576814</td><td>4.389943</td><td>1.930737</td><td>-5.034007</td><td>1.451351</td></tr></tbody></table></div>"
      ],
      "text/plain": [
       "shape: (625_000, 369)\n",
       "┌───────────┬───────────┬───────────┬───────────┬───┬───────────┬───────────┬───────────┬──────────┐\n",
       "│ sample_id ┆ ptend_t_0 ┆ ptend_t_1 ┆ ptend_t_2 ┆ … ┆ cam_out_S ┆ cam_out_S ┆ cam_out_S ┆ cam_out_ │\n",
       "│ ---       ┆ ---       ┆ ---       ┆ ---       ┆   ┆ OLS       ┆ OLL       ┆ OLSD      ┆ SOLLD    │\n",
       "│ str       ┆ f64       ┆ f64       ┆ f64       ┆   ┆ ---       ┆ ---       ┆ ---       ┆ ---      │\n",
       "│           ┆           ┆           ┆           ┆   ┆ f64       ┆ f64       ┆ f64       ┆ f64      │\n",
       "╞═══════════╪═══════════╪═══════════╪═══════════╪═══╪═══════════╪═══════════╪═══════════╪══════════╡\n",
       "│ test_1696 ┆ -4.601527 ┆ 2.6245    ┆ -1.795152 ┆ … ┆ 3.698085  ┆ 0.387274  ┆ -6.832365 ┆ 1.403947 │\n",
       "│ 51        ┆           ┆           ┆           ┆   ┆           ┆           ┆           ┆          │\n",
       "│ test_5248 ┆ -4.66954  ┆ 2.943426  ┆ -1.871974 ┆ … ┆ 3.774382  ┆ 0.241817  ┆ -6.947244 ┆ 1.564415 │\n",
       "│ 62        ┆           ┆           ┆           ┆   ┆           ┆           ┆           ┆          │\n",
       "│ test_6341 ┆ -4.414387 ┆ 2.18968   ┆ -1.831386 ┆ … ┆ 3.622062  ┆ 0.777968  ┆ -6.275424 ┆ 1.248173 │\n",
       "│ 29        ┆           ┆           ┆           ┆   ┆           ┆           ┆           ┆          │\n",
       "│ test_4035 ┆ -4.637377 ┆ 2.529356  ┆ -1.84373  ┆ … ┆ 3.734228  ┆ 0.632079  ┆ -6.836791 ┆ 1.457373 │\n",
       "│ 72        ┆           ┆           ┆           ┆   ┆           ┆           ┆           ┆          │\n",
       "│ test_4845 ┆ -4.749496 ┆ 3.072101  ┆ -1.928517 ┆ … ┆ 3.756237  ┆ 0.023915  ┆ -7.023003 ┆ 1.719027 │\n",
       "│ 78        ┆           ┆           ┆           ┆   ┆           ┆           ┆           ┆          │\n",
       "│ …         ┆ …         ┆ …         ┆ …         ┆ … ┆ …         ┆ …         ┆ …         ┆ …        │\n",
       "│ test_5782 ┆ -3.498349 ┆ 4.05013   ┆ -1.031499 ┆ … ┆ 5.273728  ┆ 2.049669  ┆ -4.486031 ┆ 2.714056 │\n",
       "│ 20        ┆           ┆           ┆           ┆   ┆           ┆           ┆           ┆          │\n",
       "│ test_3956 ┆ -3.163106 ┆ 3.679054  ┆ -0.502937 ┆ … ┆ 5.474841  ┆ 2.640348  ┆ -4.820995 ┆ 2.458705 │\n",
       "│ 95        ┆           ┆           ┆           ┆   ┆           ┆           ┆           ┆          │\n",
       "│ test_8894 ┆ -3.442916 ┆ 3.232931  ┆ -0.575676 ┆ … ┆ 5.097659  ┆ 2.176929  ┆ -5.257822 ┆ 2.165964 │\n",
       "│ 2         ┆           ┆           ┆           ┆   ┆           ┆           ┆           ┆          │\n",
       "│ test_7938 ┆ -3.784855 ┆ 3.607319  ┆ -1.543415 ┆ … ┆ 4.817067  ┆ 2.244827  ┆ -4.559932 ┆ 1.912241 │\n",
       "│ 2         ┆           ┆           ┆           ┆   ┆           ┆           ┆           ┆          │\n",
       "│ test_6013 ┆ -3.888315 ┆ 3.167492  ┆ -1.399882 ┆ … ┆ 4.389943  ┆ 1.930737  ┆ -5.034007 ┆ 1.451351 │\n",
       "│ 50        ┆           ┆           ┆           ┆   ┆           ┆           ┆           ┆          │\n",
       "└───────────┴───────────┴───────────┴───────────┴───┴───────────┴───────────┴───────────┴──────────┘"
      ]
     },
     "execution_count": 15,
     "metadata": {},
     "output_type": "execute_result"
    }
   ],
   "source": [
    "%%time \n",
    "print(\"Saving Test File\")\n",
    "df_subm_final = df_subm.astype(np.float64) * 1\n",
    "df_subm_final.iloc[:, :] = (0 * df_subm.iloc[:, :]) + predictions1\n",
    "df_subm_final = df_subm_final.reset_index()\n",
    "df_subm_final = df_subm_final[[\"sample_id\"] + TARGET_NAMES]\n",
    "df_subm_final = pl.from_pandas(df_subm_final)\n",
    "df_subm_final.write_csv(\"submission.csv\")\n",
    "\n",
    "df_subm_final"
   ]
  }
 ],
 "metadata": {
  "kaggle": {
   "accelerator": "none",
   "dataSources": [
    {
     "databundleVersionId": 8015876,
     "sourceId": 56537,
     "sourceType": "competition"
    }
   ],
   "dockerImageVersionId": 30698,
   "isGpuEnabled": false,
   "isInternetEnabled": false,
   "language": "python",
   "sourceType": "notebook"
  },
  "kernelspec": {
   "display_name": "Python 3",
   "language": "python",
   "name": "python3"
  },
  "language_info": {
   "codemirror_mode": {
    "name": "ipython",
    "version": 3
   },
   "file_extension": ".py",
   "mimetype": "text/x-python",
   "name": "python",
   "nbconvert_exporter": "python",
   "pygments_lexer": "ipython3",
   "version": "3.10.13"
  },
  "papermill": {
   "default_parameters": {},
   "duration": 1128.74348,
   "end_time": "2024-05-29T02:33:48.885198",
   "environment_variables": {},
   "exception": null,
   "input_path": "__notebook__.ipynb",
   "output_path": "__notebook__.ipynb",
   "parameters": {},
   "start_time": "2024-05-29T02:15:00.141718",
   "version": "2.5.0"
  }
 },
 "nbformat": 4,
 "nbformat_minor": 5
}
